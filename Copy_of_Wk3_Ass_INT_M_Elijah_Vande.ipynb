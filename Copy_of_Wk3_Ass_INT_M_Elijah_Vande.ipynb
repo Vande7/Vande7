{
  "cells": [
    {
      "cell_type": "markdown",
      "id": "77f4a280-fb5e-4535-ae04-f116ca566f79",
      "metadata": {
        "id": "77f4a280-fb5e-4535-ae04-f116ca566f79"
      },
      "source": [
        "# Assignment 3 (Week 3)\n",
        "\n",
        ">**Note**: Late submissions are ***`penalized`***.\n",
        "\n",
        "## Name: Elijah Vande\n",
        "\n",
        "<br>\n",
        "\n",
        "### Please show and display all your calculations and results."
      ]
    },
    {
      "cell_type": "code",
      "source": [
        "pip install nb_black\n",
        "%load_ext nb_black"
      ],
      "metadata": {
        "colab": {
          "base_uri": "https://localhost:8080/",
          "height": 17
        },
        "id": "zzGTCWxbqnLm",
        "outputId": "32aa4790-2b86-47d9-dd7e-f991090e8589"
      },
      "id": "zzGTCWxbqnLm",
      "execution_count": null,
      "outputs": [
        {
          "output_type": "display_data",
          "data": {
            "text/plain": [
              "<IPython.core.display.Javascript object>"
            ],
            "application/javascript": [
              "\n",
              "            setTimeout(function() {\n",
              "                var nbb_cell_id = 2;\n",
              "                var nbb_unformatted_code = \"%load_ext nb_black\";\n",
              "                var nbb_formatted_code = \"%load_ext nb_black\";\n",
              "                var nbb_cells = Jupyter.notebook.get_cells();\n",
              "                for (var i = 0; i < nbb_cells.length; ++i) {\n",
              "                    if (nbb_cells[i].input_prompt_number == nbb_cell_id) {\n",
              "                        if (nbb_cells[i].get_text() == nbb_unformatted_code) {\n",
              "                             nbb_cells[i].set_text(nbb_formatted_code);\n",
              "                        }\n",
              "                        break;\n",
              "                    }\n",
              "                }\n",
              "            }, 500);\n",
              "            "
            ]
          },
          "metadata": {}
        }
      ]
    },
    {
      "cell_type": "code",
      "execution_count": null,
      "id": "a7a60f1b-ee28-45be-a1b4-568201bde067",
      "metadata": {
        "id": "a7a60f1b-ee28-45be-a1b4-568201bde067"
      },
      "outputs": [],
      "source": [
        "# Standard imports\n",
        "import numpy as np\n",
        "import pandas as pd\n",
        "\n",
        "# pandas settings\n",
        "pd.options.display.max_rows = 1_000\n",
        "pd.options.display.max_columns = 1_000\n",
        "pd.options.display.max_colwidth = 1_000\n",
        "\n",
        "# Black code formatter (Optional)\n",
        "# %load_ext lab_black"
      ]
    },
    {
      "cell_type": "markdown",
      "id": "100cc8ab-1e0a-4aaf-bf44-9ce58045fa9c",
      "metadata": {
        "id": "100cc8ab-1e0a-4aaf-bf44-9ce58045fa9c"
      },
      "source": [
        "## Qs 1\n",
        "\n",
        "**a.** Given that \n",
        "\n",
        "```python\n",
        "x = np.linspace(0, 10, 10001)\n",
        "```\n",
        "\n",
        "using **ONLY** `NumPy`, write an equation that calculates `y`. `y` is calculated using the equation below:\n",
        " \n",
        "$$\n",
        "y = \\exp^{(\\frac{-x}{10})}*\\sin{(x)}\n",
        "$$\n",
        "\n",
        "<br>\n",
        "\n",
        "**b.** Write a NumPy code that calculates: \n",
        "\n",
        "$$\n",
        "result = \\frac{\\sum{((x - \\bar{x}) * (y - \\bar{y}))}}{\\sum{(x - \\bar{x})^2}}\n",
        "$$\n",
        "\n",
        "\n",
        "`X` and `y` are given below:\n",
        "\n",
        "```python\n",
        "rng = np.random.default_rng(seed=5)\n",
        "X = rng.random(size=(35, 2), dtype=np.float32)\n",
        "y = rng.random(size=(35, 1), dtype=np.float32)\n",
        "```"
      ]
    },
    {
      "cell_type": "markdown",
      "source": [
        "## Question 1A Answer\n"
      ],
      "metadata": {
        "id": "mI5O4AdvgBl4"
      },
      "id": "mI5O4AdvgBl4"
    },
    {
      "cell_type": "code",
      "source": [
        "# Question 1A Answer\n",
        "x = np.linspace(0, 10, 10001)\n",
        "y = np.exp(-x/10) * np.sin(x)\n",
        "print(y)"
      ],
      "metadata": {
        "colab": {
          "base_uri": "https://localhost:8080/"
        },
        "id": "Jflx5JyV5XUs",
        "outputId": "b551fe4c-5d5e-4982-b4be-c46219b32f47"
      },
      "id": "Jflx5JyV5XUs",
      "execution_count": null,
      "outputs": [
        {
          "output_type": "stream",
          "name": "stdout",
          "text": [
            "[ 0.          0.0009999   0.0019996  ... -0.19955634 -0.19984539\n",
            " -0.20013418]\n"
          ]
        }
      ]
    },
    {
      "cell_type": "markdown",
      "source": [
        "## Question 1B Answer"
      ],
      "metadata": {
        "id": "Zan3Qk9BgPjj"
      },
      "id": "Zan3Qk9BgPjj"
    },
    {
      "cell_type": "code",
      "source": [
        "# Question 1B Answer\n",
        "rng = np.random.default_rng(seed=5)\n",
        "X = rng.random(size=(35, 2), dtype=np.float32)\n",
        "y = rng.random(size=(35, 1), dtype=np.float32)\n",
        "\n",
        "x_mean = np.mean(X[:, 0])\n",
        "y_mean = np.mean(y)\n",
        "\n",
        "numerator = np.sum((X[:, 0] - x_mean) * (y - y_mean))\n",
        "denominator = np.sum((X[:, 0] - x_mean) ** 2)\n",
        "\n",
        "result = numerator / denominator\n",
        "print(result)"
      ],
      "metadata": {
        "colab": {
          "base_uri": "https://localhost:8080/"
        },
        "id": "Qo2PoNJq4Svx",
        "outputId": "3af0bf7f-e0b9-49b2-fac7-dd1d18d09caf"
      },
      "id": "Qo2PoNJq4Svx",
      "execution_count": null,
      "outputs": [
        {
          "output_type": "stream",
          "name": "stdout",
          "text": [
            "-1.2829544e-07\n"
          ]
        }
      ]
    },
    {
      "cell_type": "markdown",
      "id": "c78306bb-2e4f-494b-ac9a-85ecdb4ae08c",
      "metadata": {
        "id": "c78306bb-2e4f-494b-ac9a-85ecdb4ae08c"
      },
      "source": [
        "## Qs 2\n",
        "\n",
        "Given the **`4-D`** array below:\n",
        "\n",
        "```python\n",
        "rng = np.random.default_rng(seed=5)\n",
        "X = rng.random(size=(16, 3), dtype=np.float32).reshape(2, 4, 2, 3)\n",
        "```\n",
        "\n",
        "Find:\n",
        "\n",
        "**a.** 0.1777215\n",
        "\n",
        "**b.** 0.51532555\n",
        "\n"
      ]
    },
    {
      "cell_type": "code",
      "source": [
        "rng = np.random.default_rng(seed=5)\n",
        "X = rng.random(size=(16, 3), dtype=np.float32).reshape(2, 4, 2, 3)\n"
      ],
      "metadata": {
        "id": "kb88auWQnmpI",
        "colab": {
          "base_uri": "https://localhost:8080/",
          "height": 17
        },
        "outputId": "768b7eec-00e3-4b71-d0d4-33986bbb302f"
      },
      "id": "kb88auWQnmpI",
      "execution_count": null,
      "outputs": [
        {
          "output_type": "display_data",
          "data": {
            "text/plain": [
              "<IPython.core.display.Javascript object>"
            ],
            "application/javascript": [
              "\n",
              "            setTimeout(function() {\n",
              "                var nbb_cell_id = 10;\n",
              "                var nbb_unformatted_code = \"rng = np.random.default_rng(seed=5)\\nX = rng.random(size=(16, 3), dtype=np.float32).reshape(2, 4, 2, 3)\";\n",
              "                var nbb_formatted_code = \"rng = np.random.default_rng(seed=5)\\nX = rng.random(size=(16, 3), dtype=np.float32).reshape(2, 4, 2, 3)\";\n",
              "                var nbb_cells = Jupyter.notebook.get_cells();\n",
              "                for (var i = 0; i < nbb_cells.length; ++i) {\n",
              "                    if (nbb_cells[i].input_prompt_number == nbb_cell_id) {\n",
              "                        if (nbb_cells[i].get_text() == nbb_unformatted_code) {\n",
              "                             nbb_cells[i].set_text(nbb_formatted_code);\n",
              "                        }\n",
              "                        break;\n",
              "                    }\n",
              "                }\n",
              "            }, 500);\n",
              "            "
            ]
          },
          "metadata": {}
        }
      ]
    },
    {
      "cell_type": "markdown",
      "source": [
        "## Question 2A Answer"
      ],
      "metadata": {
        "id": "0ZV6GXwxiLSq"
      },
      "id": "0ZV6GXwxiLSq"
    },
    {
      "cell_type": "code",
      "source": [
        "# Finding the index of 0.1777215\n",
        "index_a = np.where(X == 0.1777215)\n",
        "print(\"Index of 0.1777215:\", index_a)"
      ],
      "metadata": {
        "colab": {
          "base_uri": "https://localhost:8080/"
        },
        "id": "YE_eF58vhmzP",
        "outputId": "c01b0d1d-1c44-4505-8cdc-79f2243a310d"
      },
      "id": "YE_eF58vhmzP",
      "execution_count": null,
      "outputs": [
        {
          "output_type": "stream",
          "name": "stdout",
          "text": [
            "Index of 0.1777215: (array([14]), array([0]))\n"
          ]
        }
      ]
    },
    {
      "cell_type": "markdown",
      "source": [
        "## Question 2B Answer"
      ],
      "metadata": {
        "id": "vzfkHnNCiOc7"
      },
      "id": "vzfkHnNCiOc7"
    },
    {
      "cell_type": "code",
      "source": [
        "# Finding the index of 0.51532555\n",
        "index_b = np.where(X == 0.51532555)\n",
        "print(\"Index of 0.51532555:\", index_b)"
      ],
      "metadata": {
        "colab": {
          "base_uri": "https://localhost:8080/"
        },
        "id": "TstQGT2k2gUx",
        "outputId": "33c79c28-ffbd-42e9-eda4-64845d4e1eb2"
      },
      "id": "TstQGT2k2gUx",
      "execution_count": null,
      "outputs": [
        {
          "output_type": "stream",
          "name": "stdout",
          "text": [
            "Index of 0.51532555: (array([2]), array([1]))\n"
          ]
        }
      ]
    },
    {
      "cell_type": "markdown",
      "id": "2f1a8c9e-09ca-4503-a853-4fe7cf326025",
      "metadata": {
        "id": "2f1a8c9e-09ca-4503-a853-4fe7cf326025"
      },
      "source": [
        "## Qs 3\n",
        "\n",
        "Using Pandas, find the number of employees that:\n",
        "\n",
        "**a.** Write a query/code that determines the employees that are older than **30** years and their job role is either **manager** or **research director** or **manufacturing director** and have a **performance rating** greater than **3**.\n",
        "\n",
        "**b.** Create a new column that combines `technical degree`, `other` and `human resources` from **`education field`** into a new label called **others**. i.e the resulting column should have four (4) unique labels namely: **`life sciences`**, **`medical`**, **`marketing`** and **`others`**. Hint: Use `.apply()`\n",
        "\n",
        "**c.** Write a code that splits the data into **numerical** and **categorical** data. Display the **first 5 rows** of your results on separate cells using `.head()`. \n",
        "\n",
        "#### The data can be found [here](https://drive.google.com/file/d/1SSOdAGm0nCpPhKCqA1rgW00mwpseL7Dj/view?usp=share_link)"
      ]
    },
    {
      "cell_type": "code",
      "source": [
        "df = pd.read_csv(\"/content/HR_Employee_reduced.csv\")\n",
        "df.head(3)"
      ],
      "metadata": {
        "colab": {
          "base_uri": "https://localhost:8080/",
          "height": 259
        },
        "id": "3HSo9d1NcPH1",
        "outputId": "d3b29fd9-fbf7-4278-e504-bfec497e6caf"
      },
      "id": "3HSo9d1NcPH1",
      "execution_count": null,
      "outputs": [
        {
          "output_type": "execute_result",
          "data": {
            "text/plain": [
              "   Age Attrition     BusinessTravel  DailyRate              Department  \\\n",
              "0   41       Yes      Travel_Rarely       1102                   Sales   \n",
              "1   49        No  Travel_Frequently        279  Research & Development   \n",
              "2   37       Yes      Travel_Rarely       1373  Research & Development   \n",
              "\n",
              "   DistanceFromHome  Education EducationField  EmployeeCount  EmployeeNumber  \\\n",
              "0                 1          2  Life Sciences              1               1   \n",
              "1                 8          1  Life Sciences              1               2   \n",
              "2                 2          2          Other              1               4   \n",
              "\n",
              "                 JobRole  EnvironmentSatisfaction  Gender  PerformanceRating  \\\n",
              "0        Sales Executive                        2  Female                  3   \n",
              "1     Research Scientist                        3    Male                  4   \n",
              "2  Laboratory Technician                        4    Male                  3   \n",
              "\n",
              "   HourlyRate  JobInvolvement  JobLevel  \n",
              "0          94               3         2  \n",
              "1          61               2         2  \n",
              "2          92               2         1  "
            ],
            "text/html": [
              "\n",
              "  <div id=\"df-6a7b561b-c219-4296-bfea-5579a8f97364\">\n",
              "    <div class=\"colab-df-container\">\n",
              "      <div>\n",
              "<style scoped>\n",
              "    .dataframe tbody tr th:only-of-type {\n",
              "        vertical-align: middle;\n",
              "    }\n",
              "\n",
              "    .dataframe tbody tr th {\n",
              "        vertical-align: top;\n",
              "    }\n",
              "\n",
              "    .dataframe thead th {\n",
              "        text-align: right;\n",
              "    }\n",
              "</style>\n",
              "<table border=\"1\" class=\"dataframe\">\n",
              "  <thead>\n",
              "    <tr style=\"text-align: right;\">\n",
              "      <th></th>\n",
              "      <th>Age</th>\n",
              "      <th>Attrition</th>\n",
              "      <th>BusinessTravel</th>\n",
              "      <th>DailyRate</th>\n",
              "      <th>Department</th>\n",
              "      <th>DistanceFromHome</th>\n",
              "      <th>Education</th>\n",
              "      <th>EducationField</th>\n",
              "      <th>EmployeeCount</th>\n",
              "      <th>EmployeeNumber</th>\n",
              "      <th>JobRole</th>\n",
              "      <th>EnvironmentSatisfaction</th>\n",
              "      <th>Gender</th>\n",
              "      <th>PerformanceRating</th>\n",
              "      <th>HourlyRate</th>\n",
              "      <th>JobInvolvement</th>\n",
              "      <th>JobLevel</th>\n",
              "    </tr>\n",
              "  </thead>\n",
              "  <tbody>\n",
              "    <tr>\n",
              "      <th>0</th>\n",
              "      <td>41</td>\n",
              "      <td>Yes</td>\n",
              "      <td>Travel_Rarely</td>\n",
              "      <td>1102</td>\n",
              "      <td>Sales</td>\n",
              "      <td>1</td>\n",
              "      <td>2</td>\n",
              "      <td>Life Sciences</td>\n",
              "      <td>1</td>\n",
              "      <td>1</td>\n",
              "      <td>Sales Executive</td>\n",
              "      <td>2</td>\n",
              "      <td>Female</td>\n",
              "      <td>3</td>\n",
              "      <td>94</td>\n",
              "      <td>3</td>\n",
              "      <td>2</td>\n",
              "    </tr>\n",
              "    <tr>\n",
              "      <th>1</th>\n",
              "      <td>49</td>\n",
              "      <td>No</td>\n",
              "      <td>Travel_Frequently</td>\n",
              "      <td>279</td>\n",
              "      <td>Research &amp; Development</td>\n",
              "      <td>8</td>\n",
              "      <td>1</td>\n",
              "      <td>Life Sciences</td>\n",
              "      <td>1</td>\n",
              "      <td>2</td>\n",
              "      <td>Research Scientist</td>\n",
              "      <td>3</td>\n",
              "      <td>Male</td>\n",
              "      <td>4</td>\n",
              "      <td>61</td>\n",
              "      <td>2</td>\n",
              "      <td>2</td>\n",
              "    </tr>\n",
              "    <tr>\n",
              "      <th>2</th>\n",
              "      <td>37</td>\n",
              "      <td>Yes</td>\n",
              "      <td>Travel_Rarely</td>\n",
              "      <td>1373</td>\n",
              "      <td>Research &amp; Development</td>\n",
              "      <td>2</td>\n",
              "      <td>2</td>\n",
              "      <td>Other</td>\n",
              "      <td>1</td>\n",
              "      <td>4</td>\n",
              "      <td>Laboratory Technician</td>\n",
              "      <td>4</td>\n",
              "      <td>Male</td>\n",
              "      <td>3</td>\n",
              "      <td>92</td>\n",
              "      <td>2</td>\n",
              "      <td>1</td>\n",
              "    </tr>\n",
              "  </tbody>\n",
              "</table>\n",
              "</div>\n",
              "      <button class=\"colab-df-convert\" onclick=\"convertToInteractive('df-6a7b561b-c219-4296-bfea-5579a8f97364')\"\n",
              "              title=\"Convert this dataframe to an interactive table.\"\n",
              "              style=\"display:none;\">\n",
              "        \n",
              "  <svg xmlns=\"http://www.w3.org/2000/svg\" height=\"24px\"viewBox=\"0 0 24 24\"\n",
              "       width=\"24px\">\n",
              "    <path d=\"M0 0h24v24H0V0z\" fill=\"none\"/>\n",
              "    <path d=\"M18.56 5.44l.94 2.06.94-2.06 2.06-.94-2.06-.94-.94-2.06-.94 2.06-2.06.94zm-11 1L8.5 8.5l.94-2.06 2.06-.94-2.06-.94L8.5 2.5l-.94 2.06-2.06.94zm10 10l.94 2.06.94-2.06 2.06-.94-2.06-.94-.94-2.06-.94 2.06-2.06.94z\"/><path d=\"M17.41 7.96l-1.37-1.37c-.4-.4-.92-.59-1.43-.59-.52 0-1.04.2-1.43.59L10.3 9.45l-7.72 7.72c-.78.78-.78 2.05 0 2.83L4 21.41c.39.39.9.59 1.41.59.51 0 1.02-.2 1.41-.59l7.78-7.78 2.81-2.81c.8-.78.8-2.07 0-2.86zM5.41 20L4 18.59l7.72-7.72 1.47 1.35L5.41 20z\"/>\n",
              "  </svg>\n",
              "      </button>\n",
              "      \n",
              "  <style>\n",
              "    .colab-df-container {\n",
              "      display:flex;\n",
              "      flex-wrap:wrap;\n",
              "      gap: 12px;\n",
              "    }\n",
              "\n",
              "    .colab-df-convert {\n",
              "      background-color: #E8F0FE;\n",
              "      border: none;\n",
              "      border-radius: 50%;\n",
              "      cursor: pointer;\n",
              "      display: none;\n",
              "      fill: #1967D2;\n",
              "      height: 32px;\n",
              "      padding: 0 0 0 0;\n",
              "      width: 32px;\n",
              "    }\n",
              "\n",
              "    .colab-df-convert:hover {\n",
              "      background-color: #E2EBFA;\n",
              "      box-shadow: 0px 1px 2px rgba(60, 64, 67, 0.3), 0px 1px 3px 1px rgba(60, 64, 67, 0.15);\n",
              "      fill: #174EA6;\n",
              "    }\n",
              "\n",
              "    [theme=dark] .colab-df-convert {\n",
              "      background-color: #3B4455;\n",
              "      fill: #D2E3FC;\n",
              "    }\n",
              "\n",
              "    [theme=dark] .colab-df-convert:hover {\n",
              "      background-color: #434B5C;\n",
              "      box-shadow: 0px 1px 3px 1px rgba(0, 0, 0, 0.15);\n",
              "      filter: drop-shadow(0px 1px 2px rgba(0, 0, 0, 0.3));\n",
              "      fill: #FFFFFF;\n",
              "    }\n",
              "  </style>\n",
              "\n",
              "      <script>\n",
              "        const buttonEl =\n",
              "          document.querySelector('#df-6a7b561b-c219-4296-bfea-5579a8f97364 button.colab-df-convert');\n",
              "        buttonEl.style.display =\n",
              "          google.colab.kernel.accessAllowed ? 'block' : 'none';\n",
              "\n",
              "        async function convertToInteractive(key) {\n",
              "          const element = document.querySelector('#df-6a7b561b-c219-4296-bfea-5579a8f97364');\n",
              "          const dataTable =\n",
              "            await google.colab.kernel.invokeFunction('convertToInteractive',\n",
              "                                                     [key], {});\n",
              "          if (!dataTable) return;\n",
              "\n",
              "          const docLinkHtml = 'Like what you see? Visit the ' +\n",
              "            '<a target=\"_blank\" href=https://colab.research.google.com/notebooks/data_table.ipynb>data table notebook</a>'\n",
              "            + ' to learn more about interactive tables.';\n",
              "          element.innerHTML = '';\n",
              "          dataTable['output_type'] = 'display_data';\n",
              "          await google.colab.output.renderOutput(dataTable, element);\n",
              "          const docLink = document.createElement('div');\n",
              "          docLink.innerHTML = docLinkHtml;\n",
              "          element.appendChild(docLink);\n",
              "        }\n",
              "      </script>\n",
              "    </div>\n",
              "  </div>\n",
              "  "
            ]
          },
          "metadata": {},
          "execution_count": 10
        }
      ]
    },
    {
      "cell_type": "code",
      "source": [
        "df.shape"
      ],
      "metadata": {
        "colab": {
          "base_uri": "https://localhost:8080/"
        },
        "id": "82mw0K-ogebY",
        "outputId": "7b5e3b59-7b88-456b-da26-e6ff7d0a67a3"
      },
      "id": "82mw0K-ogebY",
      "execution_count": null,
      "outputs": [
        {
          "output_type": "execute_result",
          "data": {
            "text/plain": [
              "(1470, 17)"
            ]
          },
          "metadata": {},
          "execution_count": 9
        }
      ]
    },
    {
      "cell_type": "code",
      "source": [
        "df.columns"
      ],
      "metadata": {
        "colab": {
          "base_uri": "https://localhost:8080/"
        },
        "id": "J46lLFl-j1cN",
        "outputId": "bade419e-db0e-4e33-de12-6d28a68a5f47"
      },
      "id": "J46lLFl-j1cN",
      "execution_count": null,
      "outputs": [
        {
          "output_type": "execute_result",
          "data": {
            "text/plain": [
              "Index(['Age', 'Attrition', 'BusinessTravel', 'DailyRate', 'Department',\n",
              "       'DistanceFromHome', 'Education', 'EducationField', 'EmployeeCount',\n",
              "       'EmployeeNumber', 'JobRole', 'EnvironmentSatisfaction', 'Gender',\n",
              "       'PerformanceRating', 'HourlyRate', 'JobInvolvement', 'JobLevel',\n",
              "       'education_combined'],\n",
              "      dtype='object')"
            ]
          },
          "metadata": {},
          "execution_count": 20
        }
      ]
    },
    {
      "cell_type": "markdown",
      "source": [
        "## Question 3A Solution"
      ],
      "metadata": {
        "id": "jy2VZ55njOHS"
      },
      "id": "jy2VZ55njOHS"
    },
    {
      "cell_type": "code",
      "execution_count": null,
      "id": "e120ec6d-64fc-4c5b-ba03-f65e92f2d24c",
      "metadata": {
        "id": "e120ec6d-64fc-4c5b-ba03-f65e92f2d24c",
        "colab": {
          "base_uri": "https://localhost:8080/",
          "height": 357
        },
        "outputId": "95f8e6d6-2908-45ba-de62-5434324c7335"
      },
      "outputs": [
        {
          "output_type": "execute_result",
          "data": {
            "text/plain": [
              "     Age Attrition     BusinessTravel  DailyRate              Department  \\\n",
              "8     38        No  Travel_Frequently        216  Research & Development   \n",
              "60    32        No      Travel_Rarely        427  Research & Development   \n",
              "75    31        No      Travel_Rarely        746  Research & Development   \n",
              "105   59        No         Non-Travel       1420         Human Resources   \n",
              "135   36        No      Travel_Rarely        216  Research & Development   \n",
              "\n",
              "     DistanceFromHome  Education   EducationField  EmployeeCount  \\\n",
              "8                  23          3    Life Sciences              1   \n",
              "60                  1          3          Medical              1   \n",
              "75                  8          4    Life Sciences              1   \n",
              "105                 2          4  Human Resources              1   \n",
              "135                 6          2          Medical              1   \n",
              "\n",
              "     EmployeeNumber                 JobRole  EnvironmentSatisfaction  Gender  \\\n",
              "8                12  Manufacturing Director                        4    Male   \n",
              "60               78  Manufacturing Director                        1    Male   \n",
              "75               98  Manufacturing Director                        3  Female   \n",
              "105             140                 Manager                        3  Female   \n",
              "135             178  Manufacturing Director                        2    Male   \n",
              "\n",
              "     PerformanceRating  HourlyRate  JobInvolvement  JobLevel  \n",
              "8                    4          44               2         3  \n",
              "60                   4          33               3         2  \n",
              "75                   4          61               3         2  \n",
              "105                  4          32               2         5  \n",
              "135                  4          84               3         2  "
            ],
            "text/html": [
              "\n",
              "  <div id=\"df-6381848c-7217-450f-adb4-e929feaeaaf1\">\n",
              "    <div class=\"colab-df-container\">\n",
              "      <div>\n",
              "<style scoped>\n",
              "    .dataframe tbody tr th:only-of-type {\n",
              "        vertical-align: middle;\n",
              "    }\n",
              "\n",
              "    .dataframe tbody tr th {\n",
              "        vertical-align: top;\n",
              "    }\n",
              "\n",
              "    .dataframe thead th {\n",
              "        text-align: right;\n",
              "    }\n",
              "</style>\n",
              "<table border=\"1\" class=\"dataframe\">\n",
              "  <thead>\n",
              "    <tr style=\"text-align: right;\">\n",
              "      <th></th>\n",
              "      <th>Age</th>\n",
              "      <th>Attrition</th>\n",
              "      <th>BusinessTravel</th>\n",
              "      <th>DailyRate</th>\n",
              "      <th>Department</th>\n",
              "      <th>DistanceFromHome</th>\n",
              "      <th>Education</th>\n",
              "      <th>EducationField</th>\n",
              "      <th>EmployeeCount</th>\n",
              "      <th>EmployeeNumber</th>\n",
              "      <th>JobRole</th>\n",
              "      <th>EnvironmentSatisfaction</th>\n",
              "      <th>Gender</th>\n",
              "      <th>PerformanceRating</th>\n",
              "      <th>HourlyRate</th>\n",
              "      <th>JobInvolvement</th>\n",
              "      <th>JobLevel</th>\n",
              "    </tr>\n",
              "  </thead>\n",
              "  <tbody>\n",
              "    <tr>\n",
              "      <th>8</th>\n",
              "      <td>38</td>\n",
              "      <td>No</td>\n",
              "      <td>Travel_Frequently</td>\n",
              "      <td>216</td>\n",
              "      <td>Research &amp; Development</td>\n",
              "      <td>23</td>\n",
              "      <td>3</td>\n",
              "      <td>Life Sciences</td>\n",
              "      <td>1</td>\n",
              "      <td>12</td>\n",
              "      <td>Manufacturing Director</td>\n",
              "      <td>4</td>\n",
              "      <td>Male</td>\n",
              "      <td>4</td>\n",
              "      <td>44</td>\n",
              "      <td>2</td>\n",
              "      <td>3</td>\n",
              "    </tr>\n",
              "    <tr>\n",
              "      <th>60</th>\n",
              "      <td>32</td>\n",
              "      <td>No</td>\n",
              "      <td>Travel_Rarely</td>\n",
              "      <td>427</td>\n",
              "      <td>Research &amp; Development</td>\n",
              "      <td>1</td>\n",
              "      <td>3</td>\n",
              "      <td>Medical</td>\n",
              "      <td>1</td>\n",
              "      <td>78</td>\n",
              "      <td>Manufacturing Director</td>\n",
              "      <td>1</td>\n",
              "      <td>Male</td>\n",
              "      <td>4</td>\n",
              "      <td>33</td>\n",
              "      <td>3</td>\n",
              "      <td>2</td>\n",
              "    </tr>\n",
              "    <tr>\n",
              "      <th>75</th>\n",
              "      <td>31</td>\n",
              "      <td>No</td>\n",
              "      <td>Travel_Rarely</td>\n",
              "      <td>746</td>\n",
              "      <td>Research &amp; Development</td>\n",
              "      <td>8</td>\n",
              "      <td>4</td>\n",
              "      <td>Life Sciences</td>\n",
              "      <td>1</td>\n",
              "      <td>98</td>\n",
              "      <td>Manufacturing Director</td>\n",
              "      <td>3</td>\n",
              "      <td>Female</td>\n",
              "      <td>4</td>\n",
              "      <td>61</td>\n",
              "      <td>3</td>\n",
              "      <td>2</td>\n",
              "    </tr>\n",
              "    <tr>\n",
              "      <th>105</th>\n",
              "      <td>59</td>\n",
              "      <td>No</td>\n",
              "      <td>Non-Travel</td>\n",
              "      <td>1420</td>\n",
              "      <td>Human Resources</td>\n",
              "      <td>2</td>\n",
              "      <td>4</td>\n",
              "      <td>Human Resources</td>\n",
              "      <td>1</td>\n",
              "      <td>140</td>\n",
              "      <td>Manager</td>\n",
              "      <td>3</td>\n",
              "      <td>Female</td>\n",
              "      <td>4</td>\n",
              "      <td>32</td>\n",
              "      <td>2</td>\n",
              "      <td>5</td>\n",
              "    </tr>\n",
              "    <tr>\n",
              "      <th>135</th>\n",
              "      <td>36</td>\n",
              "      <td>No</td>\n",
              "      <td>Travel_Rarely</td>\n",
              "      <td>216</td>\n",
              "      <td>Research &amp; Development</td>\n",
              "      <td>6</td>\n",
              "      <td>2</td>\n",
              "      <td>Medical</td>\n",
              "      <td>1</td>\n",
              "      <td>178</td>\n",
              "      <td>Manufacturing Director</td>\n",
              "      <td>2</td>\n",
              "      <td>Male</td>\n",
              "      <td>4</td>\n",
              "      <td>84</td>\n",
              "      <td>3</td>\n",
              "      <td>2</td>\n",
              "    </tr>\n",
              "  </tbody>\n",
              "</table>\n",
              "</div>\n",
              "      <button class=\"colab-df-convert\" onclick=\"convertToInteractive('df-6381848c-7217-450f-adb4-e929feaeaaf1')\"\n",
              "              title=\"Convert this dataframe to an interactive table.\"\n",
              "              style=\"display:none;\">\n",
              "        \n",
              "  <svg xmlns=\"http://www.w3.org/2000/svg\" height=\"24px\"viewBox=\"0 0 24 24\"\n",
              "       width=\"24px\">\n",
              "    <path d=\"M0 0h24v24H0V0z\" fill=\"none\"/>\n",
              "    <path d=\"M18.56 5.44l.94 2.06.94-2.06 2.06-.94-2.06-.94-.94-2.06-.94 2.06-2.06.94zm-11 1L8.5 8.5l.94-2.06 2.06-.94-2.06-.94L8.5 2.5l-.94 2.06-2.06.94zm10 10l.94 2.06.94-2.06 2.06-.94-2.06-.94-.94-2.06-.94 2.06-2.06.94z\"/><path d=\"M17.41 7.96l-1.37-1.37c-.4-.4-.92-.59-1.43-.59-.52 0-1.04.2-1.43.59L10.3 9.45l-7.72 7.72c-.78.78-.78 2.05 0 2.83L4 21.41c.39.39.9.59 1.41.59.51 0 1.02-.2 1.41-.59l7.78-7.78 2.81-2.81c.8-.78.8-2.07 0-2.86zM5.41 20L4 18.59l7.72-7.72 1.47 1.35L5.41 20z\"/>\n",
              "  </svg>\n",
              "      </button>\n",
              "      \n",
              "  <style>\n",
              "    .colab-df-container {\n",
              "      display:flex;\n",
              "      flex-wrap:wrap;\n",
              "      gap: 12px;\n",
              "    }\n",
              "\n",
              "    .colab-df-convert {\n",
              "      background-color: #E8F0FE;\n",
              "      border: none;\n",
              "      border-radius: 50%;\n",
              "      cursor: pointer;\n",
              "      display: none;\n",
              "      fill: #1967D2;\n",
              "      height: 32px;\n",
              "      padding: 0 0 0 0;\n",
              "      width: 32px;\n",
              "    }\n",
              "\n",
              "    .colab-df-convert:hover {\n",
              "      background-color: #E2EBFA;\n",
              "      box-shadow: 0px 1px 2px rgba(60, 64, 67, 0.3), 0px 1px 3px 1px rgba(60, 64, 67, 0.15);\n",
              "      fill: #174EA6;\n",
              "    }\n",
              "\n",
              "    [theme=dark] .colab-df-convert {\n",
              "      background-color: #3B4455;\n",
              "      fill: #D2E3FC;\n",
              "    }\n",
              "\n",
              "    [theme=dark] .colab-df-convert:hover {\n",
              "      background-color: #434B5C;\n",
              "      box-shadow: 0px 1px 3px 1px rgba(0, 0, 0, 0.15);\n",
              "      filter: drop-shadow(0px 1px 2px rgba(0, 0, 0, 0.3));\n",
              "      fill: #FFFFFF;\n",
              "    }\n",
              "  </style>\n",
              "\n",
              "      <script>\n",
              "        const buttonEl =\n",
              "          document.querySelector('#df-6381848c-7217-450f-adb4-e929feaeaaf1 button.colab-df-convert');\n",
              "        buttonEl.style.display =\n",
              "          google.colab.kernel.accessAllowed ? 'block' : 'none';\n",
              "\n",
              "        async function convertToInteractive(key) {\n",
              "          const element = document.querySelector('#df-6381848c-7217-450f-adb4-e929feaeaaf1');\n",
              "          const dataTable =\n",
              "            await google.colab.kernel.invokeFunction('convertToInteractive',\n",
              "                                                     [key], {});\n",
              "          if (!dataTable) return;\n",
              "\n",
              "          const docLinkHtml = 'Like what you see? Visit the ' +\n",
              "            '<a target=\"_blank\" href=https://colab.research.google.com/notebooks/data_table.ipynb>data table notebook</a>'\n",
              "            + ' to learn more about interactive tables.';\n",
              "          element.innerHTML = '';\n",
              "          dataTable['output_type'] = 'display_data';\n",
              "          await google.colab.output.renderOutput(dataTable, element);\n",
              "          const docLink = document.createElement('div');\n",
              "          docLink.innerHTML = docLinkHtml;\n",
              "          element.appendChild(docLink);\n",
              "        }\n",
              "      </script>\n",
              "    </div>\n",
              "  </div>\n",
              "  "
            ]
          },
          "metadata": {},
          "execution_count": 16
        }
      ],
      "source": [
        "result = df[\n",
        "    (df[\"Age\"] > 30)\n",
        "    & (df[\"JobRole\"].isin([\"Manager\", \"Research Director\", \"Manufacturing Director\"]))\n",
        "    & (df[\"PerformanceRating\"] > 3)\n",
        "]\n",
        "result.head()\n"
      ]
    },
    {
      "cell_type": "code",
      "source": [
        "# Finding out the actual number of employees that satisfies the given condintions\n",
        "num_employees = len(result)\n",
        "print(f\" {num_employees} employees satisfy the given conditions\")"
      ],
      "metadata": {
        "colab": {
          "base_uri": "https://localhost:8080/"
        },
        "id": "RpelTghlju-Y",
        "outputId": "5056ba4d-9a3b-44b5-c586-49fbf18ab559"
      },
      "id": "RpelTghlju-Y",
      "execution_count": null,
      "outputs": [
        {
          "output_type": "stream",
          "name": "stdout",
          "text": [
            " 46 employees satisfy the given conditions\n"
          ]
        }
      ]
    },
    {
      "cell_type": "markdown",
      "source": [
        "## Question 3B Answer"
      ],
      "metadata": {
        "id": "OT10ppflnEiz"
      },
      "id": "OT10ppflnEiz"
    },
    {
      "cell_type": "code",
      "execution_count": null,
      "id": "7181403e-b216-4f14-8ba4-d6a50891c4e1",
      "metadata": {
        "id": "7181403e-b216-4f14-8ba4-d6a50891c4e1",
        "colab": {
          "base_uri": "https://localhost:8080/"
        },
        "outputId": "a1b7d491-65d5-4ba8-b2c7-e4b05f6df722"
      },
      "outputs": [
        {
          "output_type": "execute_result",
          "data": {
            "text/plain": [
              "0    Life Sciences\n",
              "1    Life Sciences\n",
              "2           Others\n",
              "3    Life Sciences\n",
              "4          Medical\n",
              "5    Life Sciences\n",
              "6          Medical\n",
              "7    Life Sciences\n",
              "8    Life Sciences\n",
              "9          Medical\n",
              "Name: EducationField, dtype: object"
            ]
          },
          "metadata": {},
          "execution_count": 25
        }
      ],
      "source": [
        "# Question 3B Solution\n",
        "\n",
        "# create a function to combine the education fields\n",
        "def combine_fields(field):\n",
        "    if field in [\"Life Sciences\", \"Medical\"]:\n",
        "        return field\n",
        "    elif field == \"Technical Degree\" or field == \"Other\" or field == \"Human Resources\":\n",
        "        return \"Others\"\n",
        "    else:\n",
        "        return \"Unknown\"\n",
        "\n",
        "# create the new column by applying the function to the education field column\n",
        "educationCombined = df['education_combined'] = df['EducationField'].apply(combine_fields)\n",
        "\n",
        "# print the resulting DataFrame\n",
        "educationCombined.head(10)\n"
      ]
    },
    {
      "cell_type": "markdown",
      "source": [
        "## Question 3C Answer"
      ],
      "metadata": {
        "id": "1NJsxKgApCGr"
      },
      "id": "1NJsxKgApCGr"
    },
    {
      "cell_type": "code",
      "execution_count": null,
      "id": "65aa651c-c17c-4135-9193-6d0eeeceee74",
      "metadata": {
        "id": "65aa651c-c17c-4135-9193-6d0eeeceee74"
      },
      "outputs": [],
      "source": [
        "# select numerical columns\n",
        "num_cols = ['Age', 'DailyRate', 'DistanceFromHome', 'Education', 'EmployeeCount', 'EmployeeNumber',\n",
        "            'EnvironmentSatisfaction', 'HourlyRate', 'JobInvolvement', 'JobLevel', 'PerformanceRating']\n",
        "\n",
        "num_data = df[num_cols]\n",
        "\n",
        "# select categorical columns\n",
        "cat_cols = ['Attrition', 'BusinessTravel', 'Department', 'EducationField', 'Gender', 'JobRole']\n",
        "\n",
        "cat_data = df[cat_cols]\n"
      ]
    },
    {
      "cell_type": "markdown",
      "source": [
        "## 3C (i) The first 5 rows of the numerical data"
      ],
      "metadata": {
        "id": "7SlmX4rbpJwm"
      },
      "id": "7SlmX4rbpJwm"
    },
    {
      "cell_type": "code",
      "source": [
        "# print the first 5 rows of the numerical data\n",
        "num_data.head()"
      ],
      "metadata": {
        "colab": {
          "base_uri": "https://localhost:8080/",
          "height": 270
        },
        "id": "oUa5FFiVn1zH",
        "outputId": "37230a47-77d6-41e1-ac44-a4fe3b989568"
      },
      "id": "oUa5FFiVn1zH",
      "execution_count": null,
      "outputs": [
        {
          "output_type": "execute_result",
          "data": {
            "text/plain": [
              "   Age  DailyRate  DistanceFromHome  Education  EmployeeCount  EmployeeNumber  \\\n",
              "0   41       1102                 1          2              1               1   \n",
              "1   49        279                 8          1              1               2   \n",
              "2   37       1373                 2          2              1               4   \n",
              "3   33       1392                 3          4              1               5   \n",
              "4   27        591                 2          1              1               7   \n",
              "\n",
              "   EnvironmentSatisfaction  HourlyRate  JobInvolvement  JobLevel  \\\n",
              "0                        2          94               3         2   \n",
              "1                        3          61               2         2   \n",
              "2                        4          92               2         1   \n",
              "3                        4          56               3         1   \n",
              "4                        1          40               3         1   \n",
              "\n",
              "   PerformanceRating  \n",
              "0                  3  \n",
              "1                  4  \n",
              "2                  3  \n",
              "3                  3  \n",
              "4                  3  "
            ],
            "text/html": [
              "\n",
              "  <div id=\"df-b2e2f9ea-d382-4aa4-a8e0-3ac7302e3cd6\">\n",
              "    <div class=\"colab-df-container\">\n",
              "      <div>\n",
              "<style scoped>\n",
              "    .dataframe tbody tr th:only-of-type {\n",
              "        vertical-align: middle;\n",
              "    }\n",
              "\n",
              "    .dataframe tbody tr th {\n",
              "        vertical-align: top;\n",
              "    }\n",
              "\n",
              "    .dataframe thead th {\n",
              "        text-align: right;\n",
              "    }\n",
              "</style>\n",
              "<table border=\"1\" class=\"dataframe\">\n",
              "  <thead>\n",
              "    <tr style=\"text-align: right;\">\n",
              "      <th></th>\n",
              "      <th>Age</th>\n",
              "      <th>DailyRate</th>\n",
              "      <th>DistanceFromHome</th>\n",
              "      <th>Education</th>\n",
              "      <th>EmployeeCount</th>\n",
              "      <th>EmployeeNumber</th>\n",
              "      <th>EnvironmentSatisfaction</th>\n",
              "      <th>HourlyRate</th>\n",
              "      <th>JobInvolvement</th>\n",
              "      <th>JobLevel</th>\n",
              "      <th>PerformanceRating</th>\n",
              "    </tr>\n",
              "  </thead>\n",
              "  <tbody>\n",
              "    <tr>\n",
              "      <th>0</th>\n",
              "      <td>41</td>\n",
              "      <td>1102</td>\n",
              "      <td>1</td>\n",
              "      <td>2</td>\n",
              "      <td>1</td>\n",
              "      <td>1</td>\n",
              "      <td>2</td>\n",
              "      <td>94</td>\n",
              "      <td>3</td>\n",
              "      <td>2</td>\n",
              "      <td>3</td>\n",
              "    </tr>\n",
              "    <tr>\n",
              "      <th>1</th>\n",
              "      <td>49</td>\n",
              "      <td>279</td>\n",
              "      <td>8</td>\n",
              "      <td>1</td>\n",
              "      <td>1</td>\n",
              "      <td>2</td>\n",
              "      <td>3</td>\n",
              "      <td>61</td>\n",
              "      <td>2</td>\n",
              "      <td>2</td>\n",
              "      <td>4</td>\n",
              "    </tr>\n",
              "    <tr>\n",
              "      <th>2</th>\n",
              "      <td>37</td>\n",
              "      <td>1373</td>\n",
              "      <td>2</td>\n",
              "      <td>2</td>\n",
              "      <td>1</td>\n",
              "      <td>4</td>\n",
              "      <td>4</td>\n",
              "      <td>92</td>\n",
              "      <td>2</td>\n",
              "      <td>1</td>\n",
              "      <td>3</td>\n",
              "    </tr>\n",
              "    <tr>\n",
              "      <th>3</th>\n",
              "      <td>33</td>\n",
              "      <td>1392</td>\n",
              "      <td>3</td>\n",
              "      <td>4</td>\n",
              "      <td>1</td>\n",
              "      <td>5</td>\n",
              "      <td>4</td>\n",
              "      <td>56</td>\n",
              "      <td>3</td>\n",
              "      <td>1</td>\n",
              "      <td>3</td>\n",
              "    </tr>\n",
              "    <tr>\n",
              "      <th>4</th>\n",
              "      <td>27</td>\n",
              "      <td>591</td>\n",
              "      <td>2</td>\n",
              "      <td>1</td>\n",
              "      <td>1</td>\n",
              "      <td>7</td>\n",
              "      <td>1</td>\n",
              "      <td>40</td>\n",
              "      <td>3</td>\n",
              "      <td>1</td>\n",
              "      <td>3</td>\n",
              "    </tr>\n",
              "  </tbody>\n",
              "</table>\n",
              "</div>\n",
              "      <button class=\"colab-df-convert\" onclick=\"convertToInteractive('df-b2e2f9ea-d382-4aa4-a8e0-3ac7302e3cd6')\"\n",
              "              title=\"Convert this dataframe to an interactive table.\"\n",
              "              style=\"display:none;\">\n",
              "        \n",
              "  <svg xmlns=\"http://www.w3.org/2000/svg\" height=\"24px\"viewBox=\"0 0 24 24\"\n",
              "       width=\"24px\">\n",
              "    <path d=\"M0 0h24v24H0V0z\" fill=\"none\"/>\n",
              "    <path d=\"M18.56 5.44l.94 2.06.94-2.06 2.06-.94-2.06-.94-.94-2.06-.94 2.06-2.06.94zm-11 1L8.5 8.5l.94-2.06 2.06-.94-2.06-.94L8.5 2.5l-.94 2.06-2.06.94zm10 10l.94 2.06.94-2.06 2.06-.94-2.06-.94-.94-2.06-.94 2.06-2.06.94z\"/><path d=\"M17.41 7.96l-1.37-1.37c-.4-.4-.92-.59-1.43-.59-.52 0-1.04.2-1.43.59L10.3 9.45l-7.72 7.72c-.78.78-.78 2.05 0 2.83L4 21.41c.39.39.9.59 1.41.59.51 0 1.02-.2 1.41-.59l7.78-7.78 2.81-2.81c.8-.78.8-2.07 0-2.86zM5.41 20L4 18.59l7.72-7.72 1.47 1.35L5.41 20z\"/>\n",
              "  </svg>\n",
              "      </button>\n",
              "      \n",
              "  <style>\n",
              "    .colab-df-container {\n",
              "      display:flex;\n",
              "      flex-wrap:wrap;\n",
              "      gap: 12px;\n",
              "    }\n",
              "\n",
              "    .colab-df-convert {\n",
              "      background-color: #E8F0FE;\n",
              "      border: none;\n",
              "      border-radius: 50%;\n",
              "      cursor: pointer;\n",
              "      display: none;\n",
              "      fill: #1967D2;\n",
              "      height: 32px;\n",
              "      padding: 0 0 0 0;\n",
              "      width: 32px;\n",
              "    }\n",
              "\n",
              "    .colab-df-convert:hover {\n",
              "      background-color: #E2EBFA;\n",
              "      box-shadow: 0px 1px 2px rgba(60, 64, 67, 0.3), 0px 1px 3px 1px rgba(60, 64, 67, 0.15);\n",
              "      fill: #174EA6;\n",
              "    }\n",
              "\n",
              "    [theme=dark] .colab-df-convert {\n",
              "      background-color: #3B4455;\n",
              "      fill: #D2E3FC;\n",
              "    }\n",
              "\n",
              "    [theme=dark] .colab-df-convert:hover {\n",
              "      background-color: #434B5C;\n",
              "      box-shadow: 0px 1px 3px 1px rgba(0, 0, 0, 0.15);\n",
              "      filter: drop-shadow(0px 1px 2px rgba(0, 0, 0, 0.3));\n",
              "      fill: #FFFFFF;\n",
              "    }\n",
              "  </style>\n",
              "\n",
              "      <script>\n",
              "        const buttonEl =\n",
              "          document.querySelector('#df-b2e2f9ea-d382-4aa4-a8e0-3ac7302e3cd6 button.colab-df-convert');\n",
              "        buttonEl.style.display =\n",
              "          google.colab.kernel.accessAllowed ? 'block' : 'none';\n",
              "\n",
              "        async function convertToInteractive(key) {\n",
              "          const element = document.querySelector('#df-b2e2f9ea-d382-4aa4-a8e0-3ac7302e3cd6');\n",
              "          const dataTable =\n",
              "            await google.colab.kernel.invokeFunction('convertToInteractive',\n",
              "                                                     [key], {});\n",
              "          if (!dataTable) return;\n",
              "\n",
              "          const docLinkHtml = 'Like what you see? Visit the ' +\n",
              "            '<a target=\"_blank\" href=https://colab.research.google.com/notebooks/data_table.ipynb>data table notebook</a>'\n",
              "            + ' to learn more about interactive tables.';\n",
              "          element.innerHTML = '';\n",
              "          dataTable['output_type'] = 'display_data';\n",
              "          await google.colab.output.renderOutput(dataTable, element);\n",
              "          const docLink = document.createElement('div');\n",
              "          docLink.innerHTML = docLinkHtml;\n",
              "          element.appendChild(docLink);\n",
              "        }\n",
              "      </script>\n",
              "    </div>\n",
              "  </div>\n",
              "  "
            ]
          },
          "metadata": {},
          "execution_count": 27
        }
      ]
    },
    {
      "cell_type": "markdown",
      "source": [
        "## 3C(ii) The first 5 rows of the categorical data"
      ],
      "metadata": {
        "id": "D1XmtmCspXc5"
      },
      "id": "D1XmtmCspXc5"
    },
    {
      "cell_type": "code",
      "source": [
        "# print the first 5 rows of the categorical data\n",
        "cat_data.head()"
      ],
      "metadata": {
        "colab": {
          "base_uri": "https://localhost:8080/",
          "height": 206
        },
        "id": "o5th8YLMoFfT",
        "outputId": "1eb075a1-bb13-4225-d24f-b9aeb4e61f94"
      },
      "id": "o5th8YLMoFfT",
      "execution_count": null,
      "outputs": [
        {
          "output_type": "execute_result",
          "data": {
            "text/plain": [
              "  Attrition     BusinessTravel              Department EducationField  Gender  \\\n",
              "0       Yes      Travel_Rarely                   Sales  Life Sciences  Female   \n",
              "1        No  Travel_Frequently  Research & Development  Life Sciences    Male   \n",
              "2       Yes      Travel_Rarely  Research & Development          Other    Male   \n",
              "3        No  Travel_Frequently  Research & Development  Life Sciences  Female   \n",
              "4        No      Travel_Rarely  Research & Development        Medical    Male   \n",
              "\n",
              "                 JobRole  \n",
              "0        Sales Executive  \n",
              "1     Research Scientist  \n",
              "2  Laboratory Technician  \n",
              "3     Research Scientist  \n",
              "4  Laboratory Technician  "
            ],
            "text/html": [
              "\n",
              "  <div id=\"df-56d963d6-50f9-4c4d-81e0-13b2f2132d81\">\n",
              "    <div class=\"colab-df-container\">\n",
              "      <div>\n",
              "<style scoped>\n",
              "    .dataframe tbody tr th:only-of-type {\n",
              "        vertical-align: middle;\n",
              "    }\n",
              "\n",
              "    .dataframe tbody tr th {\n",
              "        vertical-align: top;\n",
              "    }\n",
              "\n",
              "    .dataframe thead th {\n",
              "        text-align: right;\n",
              "    }\n",
              "</style>\n",
              "<table border=\"1\" class=\"dataframe\">\n",
              "  <thead>\n",
              "    <tr style=\"text-align: right;\">\n",
              "      <th></th>\n",
              "      <th>Attrition</th>\n",
              "      <th>BusinessTravel</th>\n",
              "      <th>Department</th>\n",
              "      <th>EducationField</th>\n",
              "      <th>Gender</th>\n",
              "      <th>JobRole</th>\n",
              "    </tr>\n",
              "  </thead>\n",
              "  <tbody>\n",
              "    <tr>\n",
              "      <th>0</th>\n",
              "      <td>Yes</td>\n",
              "      <td>Travel_Rarely</td>\n",
              "      <td>Sales</td>\n",
              "      <td>Life Sciences</td>\n",
              "      <td>Female</td>\n",
              "      <td>Sales Executive</td>\n",
              "    </tr>\n",
              "    <tr>\n",
              "      <th>1</th>\n",
              "      <td>No</td>\n",
              "      <td>Travel_Frequently</td>\n",
              "      <td>Research &amp; Development</td>\n",
              "      <td>Life Sciences</td>\n",
              "      <td>Male</td>\n",
              "      <td>Research Scientist</td>\n",
              "    </tr>\n",
              "    <tr>\n",
              "      <th>2</th>\n",
              "      <td>Yes</td>\n",
              "      <td>Travel_Rarely</td>\n",
              "      <td>Research &amp; Development</td>\n",
              "      <td>Other</td>\n",
              "      <td>Male</td>\n",
              "      <td>Laboratory Technician</td>\n",
              "    </tr>\n",
              "    <tr>\n",
              "      <th>3</th>\n",
              "      <td>No</td>\n",
              "      <td>Travel_Frequently</td>\n",
              "      <td>Research &amp; Development</td>\n",
              "      <td>Life Sciences</td>\n",
              "      <td>Female</td>\n",
              "      <td>Research Scientist</td>\n",
              "    </tr>\n",
              "    <tr>\n",
              "      <th>4</th>\n",
              "      <td>No</td>\n",
              "      <td>Travel_Rarely</td>\n",
              "      <td>Research &amp; Development</td>\n",
              "      <td>Medical</td>\n",
              "      <td>Male</td>\n",
              "      <td>Laboratory Technician</td>\n",
              "    </tr>\n",
              "  </tbody>\n",
              "</table>\n",
              "</div>\n",
              "      <button class=\"colab-df-convert\" onclick=\"convertToInteractive('df-56d963d6-50f9-4c4d-81e0-13b2f2132d81')\"\n",
              "              title=\"Convert this dataframe to an interactive table.\"\n",
              "              style=\"display:none;\">\n",
              "        \n",
              "  <svg xmlns=\"http://www.w3.org/2000/svg\" height=\"24px\"viewBox=\"0 0 24 24\"\n",
              "       width=\"24px\">\n",
              "    <path d=\"M0 0h24v24H0V0z\" fill=\"none\"/>\n",
              "    <path d=\"M18.56 5.44l.94 2.06.94-2.06 2.06-.94-2.06-.94-.94-2.06-.94 2.06-2.06.94zm-11 1L8.5 8.5l.94-2.06 2.06-.94-2.06-.94L8.5 2.5l-.94 2.06-2.06.94zm10 10l.94 2.06.94-2.06 2.06-.94-2.06-.94-.94-2.06-.94 2.06-2.06.94z\"/><path d=\"M17.41 7.96l-1.37-1.37c-.4-.4-.92-.59-1.43-.59-.52 0-1.04.2-1.43.59L10.3 9.45l-7.72 7.72c-.78.78-.78 2.05 0 2.83L4 21.41c.39.39.9.59 1.41.59.51 0 1.02-.2 1.41-.59l7.78-7.78 2.81-2.81c.8-.78.8-2.07 0-2.86zM5.41 20L4 18.59l7.72-7.72 1.47 1.35L5.41 20z\"/>\n",
              "  </svg>\n",
              "      </button>\n",
              "      \n",
              "  <style>\n",
              "    .colab-df-container {\n",
              "      display:flex;\n",
              "      flex-wrap:wrap;\n",
              "      gap: 12px;\n",
              "    }\n",
              "\n",
              "    .colab-df-convert {\n",
              "      background-color: #E8F0FE;\n",
              "      border: none;\n",
              "      border-radius: 50%;\n",
              "      cursor: pointer;\n",
              "      display: none;\n",
              "      fill: #1967D2;\n",
              "      height: 32px;\n",
              "      padding: 0 0 0 0;\n",
              "      width: 32px;\n",
              "    }\n",
              "\n",
              "    .colab-df-convert:hover {\n",
              "      background-color: #E2EBFA;\n",
              "      box-shadow: 0px 1px 2px rgba(60, 64, 67, 0.3), 0px 1px 3px 1px rgba(60, 64, 67, 0.15);\n",
              "      fill: #174EA6;\n",
              "    }\n",
              "\n",
              "    [theme=dark] .colab-df-convert {\n",
              "      background-color: #3B4455;\n",
              "      fill: #D2E3FC;\n",
              "    }\n",
              "\n",
              "    [theme=dark] .colab-df-convert:hover {\n",
              "      background-color: #434B5C;\n",
              "      box-shadow: 0px 1px 3px 1px rgba(0, 0, 0, 0.15);\n",
              "      filter: drop-shadow(0px 1px 2px rgba(0, 0, 0, 0.3));\n",
              "      fill: #FFFFFF;\n",
              "    }\n",
              "  </style>\n",
              "\n",
              "      <script>\n",
              "        const buttonEl =\n",
              "          document.querySelector('#df-56d963d6-50f9-4c4d-81e0-13b2f2132d81 button.colab-df-convert');\n",
              "        buttonEl.style.display =\n",
              "          google.colab.kernel.accessAllowed ? 'block' : 'none';\n",
              "\n",
              "        async function convertToInteractive(key) {\n",
              "          const element = document.querySelector('#df-56d963d6-50f9-4c4d-81e0-13b2f2132d81');\n",
              "          const dataTable =\n",
              "            await google.colab.kernel.invokeFunction('convertToInteractive',\n",
              "                                                     [key], {});\n",
              "          if (!dataTable) return;\n",
              "\n",
              "          const docLinkHtml = 'Like what you see? Visit the ' +\n",
              "            '<a target=\"_blank\" href=https://colab.research.google.com/notebooks/data_table.ipynb>data table notebook</a>'\n",
              "            + ' to learn more about interactive tables.';\n",
              "          element.innerHTML = '';\n",
              "          dataTable['output_type'] = 'display_data';\n",
              "          await google.colab.output.renderOutput(dataTable, element);\n",
              "          const docLink = document.createElement('div');\n",
              "          docLink.innerHTML = docLinkHtml;\n",
              "          element.appendChild(docLink);\n",
              "        }\n",
              "      </script>\n",
              "    </div>\n",
              "  </div>\n",
              "  "
            ]
          },
          "metadata": {},
          "execution_count": 29
        }
      ]
    },
    {
      "cell_type": "markdown",
      "id": "a1fcf501-e5e3-49cc-9814-b1cb1b1d158a",
      "metadata": {
        "id": "a1fcf501-e5e3-49cc-9814-b1cb1b1d158a"
      },
      "source": [
        "## Qs 4\n",
        "\n",
        "Given the data below:\n",
        "\n",
        "```python\n",
        "salary = [74454, 54900, 76182, 56221, 81254, 75900, 67122, 62426, 61553,\n",
        "       77070, 67587, 50095, 75820, 68174, 79069]\n",
        "students = [\n",
        "    \"Sadiq\",\n",
        "    \"Aminu\",\n",
        "    \"Udensi\",\n",
        "    \"Olayiwola\",\n",
        "    \"Ukpeh\",\n",
        "    \"Akinbade\",\n",
        "    \"Ezeofor\",\n",
        "    \"Oludele\",\n",
        "    \"Gbenga\",\n",
        "    \"Edgar\",\n",
        "    \"Worlu\",\n",
        "    \"Magbuwe\",\n",
        "    \"Atte\",\n",
        "    \"Orogun\",\n",
        "    \"Bamigbade\"\n",
        "]\n",
        "\n",
        "roles = [\n",
        "    \"Data Engineer\",\n",
        "    \"Data Scientist\",\n",
        "    \"DevOps Engineer\",\n",
        "    \"Research Engineer\",\n",
        "    \"Analytical Engineer\",\n",
        "    \"Data Analyst\",\n",
        "    \"ML Engineer\",\n",
        "    \"DevOps Engineer\",\n",
        "    \"Analytical Engineer\",\n",
        "    \"Data Scientist\",\n",
        "    \"MLOps Engineer\",\n",
        "    \"Data Engineer\",\n",
        "    \"Data Scientist\",\n",
        "    \"ML Engineer\",\n",
        "    \"Research Engineer\",\n",
        "]\n",
        "```\n",
        "\n",
        "**a.** Create a `DataFrame` using the lists above. The column names should be: `name` , `job_role` and `salary`.\n",
        "\n",
        "**b.** Create a new column **`title`** that has has 2 new labels `Engineer` and `Analyst/Scientist` if the person has `engineer` or `analyst/scientist` in their job role.\n",
        "\n",
        "**c.** What is the mean and median salary per `title`?"
      ]
    },
    {
      "cell_type": "markdown",
      "source": [
        "## Question 4A Answer"
      ],
      "metadata": {
        "id": "Tb5GZ3y8pkCS"
      },
      "id": "Tb5GZ3y8pkCS"
    },
    {
      "cell_type": "code",
      "execution_count": null,
      "id": "eedfd912-c7f2-4a23-83d4-78130a7997c9",
      "metadata": {
        "id": "eedfd912-c7f2-4a23-83d4-78130a7997c9",
        "colab": {
          "base_uri": "https://localhost:8080/"
        },
        "outputId": "203cf4a3-bef4-4f30-af5f-15e663b7448d"
      },
      "outputs": [
        {
          "output_type": "stream",
          "name": "stdout",
          "text": [
            "         name             job_role  salary\n",
            "0       Sadiq        Data Engineer   74454\n",
            "1       Aminu       Data Scientist   54900\n",
            "2      Udensi      DevOps Engineer   76182\n",
            "3   Olayiwola    Research Engineer   56221\n",
            "4       Ukpeh  Analytical Engineer   81254\n",
            "5    Akinbade         Data Analyst   75900\n",
            "6     Ezeofor          ML Engineer   67122\n",
            "7     Oludele      DevOps Engineer   62426\n",
            "8      Gbenga  Analytical Engineer   61553\n",
            "9       Edgar       Data Scientist   77070\n",
            "10      Worlu       MLOps Engineer   67587\n",
            "11    Magbuwe        Data Engineer   50095\n",
            "12       Atte       Data Scientist   75820\n",
            "13     Orogun          ML Engineer   68174\n",
            "14  Bamigbade    Research Engineer   79069\n"
          ]
        }
      ],
      "source": [
        "# Question 4A Answer\n",
        "\n",
        "salary = [74454, 54900, 76182, 56221, 81254, 75900, 67122, 62426, 61553, 77070, 67587, 50095, 75820, 68174, 79069]\n",
        "name = [\"Sadiq\", \"Aminu\", \"Udensi\", \"Olayiwola\", \"Ukpeh\", \"Akinbade\", \"Ezeofor\", \"Oludele\", \"Gbenga\", \"Edgar\", \"Worlu\", \"Magbuwe\", \"Atte\", \"Orogun\", \"Bamigbade\"]\n",
        "job_role = [\"Data Engineer\", \"Data Scientist\", \"DevOps Engineer\", \"Research Engineer\", \"Analytical Engineer\", \"Data Analyst\", \"ML Engineer\", \"DevOps Engineer\", \"Analytical Engineer\", \"Data Scientist\", \"MLOps Engineer\", \"Data Engineer\", \"Data Scientist\", \"ML Engineer\", \"Research Engineer\"]\n",
        "\n",
        "data = {\"name\": name, \"job_role\": job_role, \"salary\": salary}\n",
        "df = pd.DataFrame(data)\n",
        "\n",
        "print(df)\n"
      ]
    },
    {
      "cell_type": "markdown",
      "source": [
        "## Question 4B Answer"
      ],
      "metadata": {
        "id": "1Mw56wygp3Ss"
      },
      "id": "1Mw56wygp3Ss"
    },
    {
      "cell_type": "code",
      "execution_count": null,
      "id": "bffc37b3-1a25-4164-9be1-927363ce74ef",
      "metadata": {
        "id": "bffc37b3-1a25-4164-9be1-927363ce74ef",
        "colab": {
          "base_uri": "https://localhost:8080/"
        },
        "outputId": "adaf839d-8cd5-4519-e647-f42ee50c1ddc"
      },
      "outputs": [
        {
          "output_type": "stream",
          "name": "stdout",
          "text": [
            "         name             job_role  salary              title\n",
            "0       Sadiq        Data Engineer   74454           Engineer\n",
            "1       Aminu       Data Scientist   54900  Analyst/Scientist\n",
            "2      Udensi      DevOps Engineer   76182           Engineer\n",
            "3   Olayiwola    Research Engineer   56221           Engineer\n",
            "4       Ukpeh  Analytical Engineer   81254           Engineer\n",
            "5    Akinbade         Data Analyst   75900  Analyst/Scientist\n",
            "6     Ezeofor          ML Engineer   67122           Engineer\n",
            "7     Oludele      DevOps Engineer   62426           Engineer\n",
            "8      Gbenga  Analytical Engineer   61553           Engineer\n",
            "9       Edgar       Data Scientist   77070  Analyst/Scientist\n",
            "10      Worlu       MLOps Engineer   67587           Engineer\n",
            "11    Magbuwe        Data Engineer   50095           Engineer\n",
            "12       Atte       Data Scientist   75820  Analyst/Scientist\n",
            "13     Orogun          ML Engineer   68174           Engineer\n",
            "14  Bamigbade    Research Engineer   79069           Engineer\n"
          ]
        }
      ],
      "source": [
        "# 4B Solution\n",
        "\n",
        "salary = [74454, 54900, 76182, 56221, 81254, 75900, 67122, 62426, 61553, 77070, 67587, 50095, 75820, 68174, 79069]\n",
        "name = [\"Sadiq\", \"Aminu\", \"Udensi\", \"Olayiwola\", \"Ukpeh\", \"Akinbade\", \"Ezeofor\", \"Oludele\", \"Gbenga\", \"Edgar\", \"Worlu\", \"Magbuwe\", \"Atte\", \"Orogun\", \"Bamigbade\"]\n",
        "job_role = [\"Data Engineer\", \"Data Scientist\", \"DevOps Engineer\", \"Research Engineer\", \"Analytical Engineer\", \"Data Analyst\", \"ML Engineer\", \"DevOps Engineer\", \"Analytical Engineer\", \"Data Scientist\", \"MLOps Engineer\", \"Data Engineer\", \"Data Scientist\", \"ML Engineer\", \"Research Engineer\"]\n",
        "\n",
        "data = {\"name\": name, \"job_role\": job_role, \"salary\": salary}\n",
        "df = pd.DataFrame(data)\n",
        "\n",
        "# Create the title column based on job_role\n",
        "df['title'] = df['job_role'].apply(lambda x: 'Engineer' if 'Engineer' in x else 'Analyst/Scientist' if ('Analyst' in x or 'Scientist' in x) else 'Other')\n",
        "\n",
        "print(df)\n"
      ]
    },
    {
      "cell_type": "markdown",
      "source": [
        "## Question 4C Solution"
      ],
      "metadata": {
        "id": "_YSE2PZ3qDR3"
      },
      "id": "_YSE2PZ3qDR3"
    },
    {
      "cell_type": "code",
      "execution_count": null,
      "id": "1ab30715-ef19-4cf1-b3fc-15dc8cb1cb7d",
      "metadata": {
        "id": "1ab30715-ef19-4cf1-b3fc-15dc8cb1cb7d",
        "colab": {
          "base_uri": "https://localhost:8080/"
        },
        "outputId": "2a024351-aed5-43a4-9182-4553d77bc51f"
      },
      "outputs": [
        {
          "output_type": "stream",
          "name": "stdout",
          "text": [
            "Mean salary per title:\n",
            "title\n",
            "Analyst/Scientist    70922.500000\n",
            "Engineer             67648.818182\n",
            "Name: salary, dtype: float64\n",
            "\n",
            "Median salary per title:\n",
            "title\n",
            "Analyst/Scientist    75860.0\n",
            "Engineer             67587.0\n",
            "Name: salary, dtype: float64\n"
          ]
        }
      ],
      "source": [
        "# 4C Solution\n",
        "\n",
        "salary = [74454, 54900, 76182, 56221, 81254, 75900, 67122, 62426, 61553, 77070, 67587, 50095, 75820, 68174, 79069]\n",
        "name = [\"Sadiq\", \"Aminu\", \"Udensi\", \"Olayiwola\", \"Ukpeh\", \"Akinbade\", \"Ezeofor\", \"Oludele\", \"Gbenga\", \"Edgar\", \"Worlu\", \"Magbuwe\", \"Atte\", \"Orogun\", \"Bamigbade\"]\n",
        "job_role = [\"Data Engineer\", \"Data Scientist\", \"DevOps Engineer\", \"Research Engineer\", \"Analytical Engineer\", \"Data Analyst\", \"ML Engineer\", \"DevOps Engineer\", \"Analytical Engineer\", \"Data Scientist\", \"MLOps Engineer\", \"Data Engineer\", \"Data Scientist\", \"ML Engineer\", \"Research Engineer\"]\n",
        "title = ['Engineer' if 'Engineer' in x else 'Analyst/Scientist' if ('Analyst' in x or 'Scientist' in x) else 'Other' for x in job_role]\n",
        "\n",
        "data = {\"name\": name, \"job_role\": job_role, \"salary\": salary, \"title\": title}\n",
        "df = pd.DataFrame(data)\n",
        "\n",
        "# Group by title and calculate mean and median salary\n",
        "title_salary_mean = df.groupby('title')['salary'].mean()\n",
        "title_salary_median = df.groupby('title')['salary'].median()\n",
        "\n",
        "print('Mean salary per title:')\n",
        "print(title_salary_mean)\n",
        "print('\\nMedian salary per title:')\n",
        "print(title_salary_median)\n"
      ]
    }
  ],
  "metadata": {
    "kernelspec": {
      "display_name": "Python(ds)",
      "language": "python",
      "name": "ds"
    },
    "language_info": {
      "codemirror_mode": {
        "name": "ipython",
        "version": 3
      },
      "file_extension": ".py",
      "mimetype": "text/x-python",
      "name": "python",
      "nbconvert_exporter": "python",
      "pygments_lexer": "ipython3",
      "version": "3.9.0"
    },
    "colab": {
      "provenance": []
    }
  },
  "nbformat": 4,
  "nbformat_minor": 5
}