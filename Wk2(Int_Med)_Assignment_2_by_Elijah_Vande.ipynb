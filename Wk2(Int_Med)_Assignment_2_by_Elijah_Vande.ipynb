{
  "cells": [
    {
      "cell_type": "markdown",
      "id": "28c12f4a-512d-4a18-8640-45dd48ae8b3c",
      "metadata": {
        "id": "28c12f4a-512d-4a18-8640-45dd48ae8b3c"
      },
      "source": [
        "# Assignment 2 (Week 2)\n",
        "\n",
        ">**Note**: Late submissions are ***`penalized`***.\n",
        "\n",
        "## Name: Elijah Vande"
      ]
    },
    {
      "cell_type": "markdown",
      "source": [
        "## Installation of packages"
      ],
      "metadata": {
        "id": "W5oRUxp9y6nu"
      },
      "id": "W5oRUxp9y6nu"
    },
    {
      "cell_type": "code",
      "source": [
        "# Installation of packages\n",
        "\n",
        "! pip install SQLAlchemy\n",
        "! pip install python-sql\n",
        "! pip install pymysql\n",
        "! pip install ipython-sql\n",
        "!pip install ipython-sql\n"
      ],
      "metadata": {
        "id": "kShTUmHkPdWN"
      },
      "id": "kShTUmHkPdWN",
      "execution_count": null,
      "outputs": []
    },
    {
      "cell_type": "markdown",
      "source": [
        "## Installation of libraries and modules"
      ],
      "metadata": {
        "id": "4Jke1ML4zCt9"
      },
      "id": "4Jke1ML4zCt9"
    },
    {
      "cell_type": "code",
      "source": [
        "# Installation of libraries and modules\n",
        "import pandas as pd\n",
        "import sqlite3"
      ],
      "metadata": {
        "id": "0YLHRm34yMk0"
      },
      "id": "0YLHRm34yMk0",
      "execution_count": null,
      "outputs": []
    },
    {
      "cell_type": "code",
      "source": [
        "# Loading the sql extension library\n",
        "%load_ext sql"
      ],
      "metadata": {
        "id": "Cnv8SWx2yIsf"
      },
      "id": "Cnv8SWx2yIsf",
      "execution_count": null,
      "outputs": []
    },
    {
      "cell_type": "markdown",
      "id": "6766dadf-bb90-45ee-93aa-01db1ad5c87e",
      "metadata": {
        "id": "6766dadf-bb90-45ee-93aa-01db1ad5c87e"
      },
      "source": [
        "### The Database can be found [here](https://drive.google.com/file/d/1uIPkJWIHyZ8iQD_tQlM_K-ANoT_Bpy8P/view?usp=sharing)\n",
        "\n",
        "> Run the command below to see all the tables present in the SQLite DB.\n",
        "\n",
        "```sql\n",
        "SELECT name FROM sqlite_master;\n",
        "```\n",
        "\n",
        "<hr>\n",
        "<br>"
      ]
    },
    {
      "cell_type": "code",
      "source": [
        "# Creating a connection to the database\n",
        "filepath = \"/content/week_2.db\"\n",
        "conn = sqlite3.connect(filepath)\n",
        "cursor = conn.cursor()"
      ],
      "metadata": {
        "id": "lGRVcZNlY21I"
      },
      "id": "lGRVcZNlY21I",
      "execution_count": 14,
      "outputs": []
    },
    {
      "cell_type": "code",
      "source": [
        "# Fecthing all the tables from the data bse\n",
        "sql_query = \"\"\" \n",
        "          SELECT name FROM sqlite_master;\n",
        "\n",
        "\"\"\"\n",
        "\n",
        "# execute\n",
        "\n",
        "result = cursor.execute(sql_query)\n",
        "result.fetchall()"
      ],
      "metadata": {
        "colab": {
          "base_uri": "https://localhost:8080/"
        },
        "id": "47i3vwPMGHAq",
        "outputId": "0552d9d1-3925-4676-f5e8-b03ed08f79bb"
      },
      "id": "47i3vwPMGHAq",
      "execution_count": 15,
      "outputs": [
        {
          "output_type": "execute_result",
          "data": {
            "text/plain": [
              "[('customers',),\n",
              " ('sqlite_sequence',),\n",
              " ('orders',),\n",
              " ('employee',),\n",
              " ('department',),\n",
              " ('students',),\n",
              " ('sqlite_autoindex_students_1',),\n",
              " ('products',)]"
            ]
          },
          "metadata": {},
          "execution_count": 15
        }
      ]
    },
    {
      "cell_type": "code",
      "source": [
        "# Loading the data base\n",
        "%sql sqlite:////content/week_2.db"
      ],
      "metadata": {
        "colab": {
          "base_uri": "https://localhost:8080/",
          "height": 35
        },
        "id": "g0lprDkuhti4",
        "outputId": "6bf967c8-6e0d-4311-fd5b-8d912e9ba34f"
      },
      "id": "g0lprDkuhti4",
      "execution_count": 20,
      "outputs": [
        {
          "output_type": "execute_result",
          "data": {
            "text/plain": [
              "'Connected: @/content/week_2.db'"
            ],
            "application/vnd.google.colaboratory.intrinsic+json": {
              "type": "string"
            }
          },
          "metadata": {},
          "execution_count": 20
        }
      ]
    },
    {
      "cell_type": "markdown",
      "id": "2e83bc59-806f-4e10-8bdf-555ff25f28eb",
      "metadata": {
        "id": "2e83bc59-806f-4e10-8bdf-555ff25f28eb"
      },
      "source": [
        "## Qs 1: \n",
        "\n",
        "a. Given the table, `customers` and `orders` shown below, use a **subquery** to find the **customers** that did ***NOT*** place any orders. Display only the customer name(s).\n",
        "\n",
        "**`customers`**\n",
        "\n",
        "![image.png](https://i.postimg.cc/sx2WK6v3/image.png)\n",
        "\n",
        "\n",
        "**`orders`**\n",
        "\n",
        "![image.png](https://i.postimg.cc/T2H5fcKW/image.png)\n",
        "\n",
        "b. Given the `products` table shown below:\n",
        "\n",
        "[![image.png](https://i.postimg.cc/W18dpLXC/image.png)](https://postimg.cc/DSWv5DVP)\n",
        "\n",
        "write a query that returns the price of each product at every store. Your result should look like this:\n",
        "\n",
        "[![image.png](https://i.postimg.cc/s235K4Nd/image.png)](https://postimg.cc/FYnfH3vD)\n",
        "\n",
        "**Hint:** Use `CASE` statement.\n",
        "\n",
        "### NOTE: You must use a single query."
      ]
    },
    {
      "cell_type": "markdown",
      "source": [
        "## Question 1A Answer"
      ],
      "metadata": {
        "id": "7zaaI3CoM578"
      },
      "id": "7zaaI3CoM578"
    },
    {
      "cell_type": "code",
      "source": [
        "# Taking a peep at the customers table\n",
        "%%sql\n",
        "\n",
        "SELECT * FROM customers;"
      ],
      "metadata": {
        "colab": {
          "base_uri": "https://localhost:8080/",
          "height": 160
        },
        "id": "9-PaakM817Ot",
        "outputId": "e13087ad-e4e2-4073-b1f1-9c2d89b58985"
      },
      "id": "9-PaakM817Ot",
      "execution_count": 50,
      "outputs": [
        {
          "output_type": "stream",
          "name": "stdout",
          "text": [
            " * sqlite:////content/week_2.db\n",
            "Done.\n"
          ]
        },
        {
          "output_type": "execute_result",
          "data": {
            "text/plain": [
              "[(1, 'Mike'), (2, 'Afam'), (3, 'Deborah'), (4, 'Yusuf')]"
            ],
            "text/html": [
              "<table>\n",
              "    <thead>\n",
              "        <tr>\n",
              "            <th>id</th>\n",
              "            <th>name</th>\n",
              "        </tr>\n",
              "    </thead>\n",
              "    <tbody>\n",
              "        <tr>\n",
              "            <td>1</td>\n",
              "            <td>Mike</td>\n",
              "        </tr>\n",
              "        <tr>\n",
              "            <td>2</td>\n",
              "            <td>Afam</td>\n",
              "        </tr>\n",
              "        <tr>\n",
              "            <td>3</td>\n",
              "            <td>Deborah</td>\n",
              "        </tr>\n",
              "        <tr>\n",
              "            <td>4</td>\n",
              "            <td>Yusuf</td>\n",
              "        </tr>\n",
              "    </tbody>\n",
              "</table>"
            ]
          },
          "metadata": {},
          "execution_count": 50
        }
      ]
    },
    {
      "cell_type": "code",
      "source": [
        "# Taking a peep at the orders table\n",
        "%%sql\n",
        "\n",
        "SELECT * FROM orders;"
      ],
      "metadata": {
        "colab": {
          "base_uri": "https://localhost:8080/",
          "height": 160
        },
        "id": "pLhNUTBb17Hb",
        "outputId": "d6d5e2b4-0306-43b2-e784-c03dd12f21fa"
      },
      "id": "pLhNUTBb17Hb",
      "execution_count": 51,
      "outputs": [
        {
          "output_type": "stream",
          "name": "stdout",
          "text": [
            " * sqlite:////content/week_2.db\n",
            "Done.\n"
          ]
        },
        {
          "output_type": "execute_result",
          "data": {
            "text/plain": [
              "[(1, 5), (2, None), (3, None), (4, 3)]"
            ],
            "text/html": [
              "<table>\n",
              "    <thead>\n",
              "        <tr>\n",
              "            <th>id</th>\n",
              "            <th>order_id</th>\n",
              "        </tr>\n",
              "    </thead>\n",
              "    <tbody>\n",
              "        <tr>\n",
              "            <td>1</td>\n",
              "            <td>5</td>\n",
              "        </tr>\n",
              "        <tr>\n",
              "            <td>2</td>\n",
              "            <td>None</td>\n",
              "        </tr>\n",
              "        <tr>\n",
              "            <td>3</td>\n",
              "            <td>None</td>\n",
              "        </tr>\n",
              "        <tr>\n",
              "            <td>4</td>\n",
              "            <td>3</td>\n",
              "        </tr>\n",
              "    </tbody>\n",
              "</table>"
            ]
          },
          "metadata": {},
          "execution_count": 51
        }
      ]
    },
    {
      "cell_type": "code",
      "source": [
        "# Taking a peep at the products table\n",
        "%%sql\n",
        "\n",
        "SELECT * FROM products;"
      ],
      "metadata": {
        "colab": {
          "base_uri": "https://localhost:8080/",
          "height": 203
        },
        "id": "9A5sdZNE160d",
        "outputId": "b51c1905-3199-44b9-98d1-c844655f6d87"
      },
      "id": "9A5sdZNE160d",
      "execution_count": 52,
      "outputs": [
        {
          "output_type": "stream",
          "name": "stdout",
          "text": [
            " * sqlite:////content/week_2.db\n",
            "Done.\n"
          ]
        },
        {
          "output_type": "execute_result",
          "data": {
            "text/plain": [
              "[(0, 'store a', 10),\n",
              " (0, 'store c', 12),\n",
              " (1, 'store b', 35),\n",
              " (1, 'store a', 33),\n",
              " (1, 'store c', 34),\n",
              " (0, 'store b', 11)]"
            ],
            "text/html": [
              "<table>\n",
              "    <thead>\n",
              "        <tr>\n",
              "            <th>id</th>\n",
              "            <th>store</th>\n",
              "            <th>price</th>\n",
              "        </tr>\n",
              "    </thead>\n",
              "    <tbody>\n",
              "        <tr>\n",
              "            <td>0</td>\n",
              "            <td>store a</td>\n",
              "            <td>10</td>\n",
              "        </tr>\n",
              "        <tr>\n",
              "            <td>0</td>\n",
              "            <td>store c</td>\n",
              "            <td>12</td>\n",
              "        </tr>\n",
              "        <tr>\n",
              "            <td>1</td>\n",
              "            <td>store b</td>\n",
              "            <td>35</td>\n",
              "        </tr>\n",
              "        <tr>\n",
              "            <td>1</td>\n",
              "            <td>store a</td>\n",
              "            <td>33</td>\n",
              "        </tr>\n",
              "        <tr>\n",
              "            <td>1</td>\n",
              "            <td>store c</td>\n",
              "            <td>34</td>\n",
              "        </tr>\n",
              "        <tr>\n",
              "            <td>0</td>\n",
              "            <td>store b</td>\n",
              "            <td>11</td>\n",
              "        </tr>\n",
              "    </tbody>\n",
              "</table>"
            ]
          },
          "metadata": {},
          "execution_count": 52
        }
      ]
    },
    {
      "cell_type": "code",
      "source": [
        "%%sql\n",
        "SELECT name\n",
        "FROM customers\n",
        "LEFT JOIN orders ON customers.id = orders.id\n",
        "WHERE order_id IS NULL;\n"
      ],
      "metadata": {
        "colab": {
          "base_uri": "https://localhost:8080/",
          "height": 118
        },
        "id": "Grfd9hH0u_xp",
        "outputId": "bb37fb4a-fe24-4119-e5ab-c266e91a0b4d"
      },
      "id": "Grfd9hH0u_xp",
      "execution_count": 45,
      "outputs": [
        {
          "output_type": "stream",
          "name": "stdout",
          "text": [
            " * sqlite:////content/week_2.db\n",
            "Done.\n"
          ]
        },
        {
          "output_type": "execute_result",
          "data": {
            "text/plain": [
              "[('Afam',), ('Deborah',)]"
            ],
            "text/html": [
              "<table>\n",
              "    <thead>\n",
              "        <tr>\n",
              "            <th>name</th>\n",
              "        </tr>\n",
              "    </thead>\n",
              "    <tbody>\n",
              "        <tr>\n",
              "            <td>Afam</td>\n",
              "        </tr>\n",
              "        <tr>\n",
              "            <td>Deborah</td>\n",
              "        </tr>\n",
              "    </tbody>\n",
              "</table>"
            ]
          },
          "metadata": {},
          "execution_count": 45
        }
      ]
    },
    {
      "cell_type": "markdown",
      "source": [
        "## Question 1B Answer"
      ],
      "metadata": {
        "id": "yP1_TrXjxiFo"
      },
      "id": "yP1_TrXjxiFo"
    },
    {
      "cell_type": "code",
      "source": [
        "%%sql\n",
        "SELECT id,\n",
        "  MAX(CASE WHEN store = 'store a' THEN price END) AS store_a_price,\n",
        "  MAX(CASE WHEN store = 'store b' THEN price END) AS store_b_price,\n",
        "  MAX(CASE WHEN store = 'store c' THEN price END) AS store_c_price\n",
        "FROM products\n",
        "GROUP BY id;\n"
      ],
      "metadata": {
        "colab": {
          "base_uri": "https://localhost:8080/",
          "height": 118
        },
        "id": "cwH6rNwmu_t_",
        "outputId": "f74bc2d3-a0f9-4e21-9b74-70e6e72d71c5"
      },
      "id": "cwH6rNwmu_t_",
      "execution_count": 48,
      "outputs": [
        {
          "output_type": "stream",
          "name": "stdout",
          "text": [
            " * sqlite:////content/week_2.db\n",
            "Done.\n"
          ]
        },
        {
          "output_type": "execute_result",
          "data": {
            "text/plain": [
              "[(0, 10, 11, 12), (1, 33, 35, 34)]"
            ],
            "text/html": [
              "<table>\n",
              "    <thead>\n",
              "        <tr>\n",
              "            <th>id</th>\n",
              "            <th>store_a_price</th>\n",
              "            <th>store_b_price</th>\n",
              "            <th>store_c_price</th>\n",
              "        </tr>\n",
              "    </thead>\n",
              "    <tbody>\n",
              "        <tr>\n",
              "            <td>0</td>\n",
              "            <td>10</td>\n",
              "            <td>11</td>\n",
              "            <td>12</td>\n",
              "        </tr>\n",
              "        <tr>\n",
              "            <td>1</td>\n",
              "            <td>33</td>\n",
              "            <td>35</td>\n",
              "            <td>34</td>\n",
              "        </tr>\n",
              "    </tbody>\n",
              "</table>"
            ]
          },
          "metadata": {},
          "execution_count": 48
        }
      ]
    },
    {
      "cell_type": "markdown",
      "id": "3aa4543f-ee4e-4288-bee3-6a7ad529c88d",
      "metadata": {
        "tags": [],
        "id": "3aa4543f-ee4e-4288-bee3-6a7ad529c88d"
      },
      "source": [
        "## Qs 2: \n",
        "\n",
        "Given the tables `employee` and `department` shown below:\n",
        "\n",
        "![image.png](https://i.postimg.cc/bw0J574p/image.png)\n",
        "\n",
        "a. Write a query that generates the table shown below:\n",
        "\n",
        "![image](https://i.postimg.cc/hjc3rdTK/image.pnghttps://i.postimg.cc/hjc3rdTK/image.png)\n",
        "\n",
        "b. Write a query that determines the **highest earner** in **each department**.\n",
        "\n",
        "c. Write a query that shows all the employees in each department **except** the **lowest earner**. i.e generate the table below\n",
        "\n",
        "![image.png](https://i.postimg.cc/MHcmw7Q0/image.png)"
      ]
    },
    {
      "cell_type": "code",
      "source": [
        "# Taking a peep at the employee table\n",
        "%%sql\n",
        "SELECT *\n",
        "FROM employee;"
      ],
      "metadata": {
        "colab": {
          "base_uri": "https://localhost:8080/",
          "height": 246
        },
        "id": "Niu1hSr2oWRp",
        "outputId": "348d297d-7f1d-4710-e014-3ac7c3e85307"
      },
      "id": "Niu1hSr2oWRp",
      "execution_count": 49,
      "outputs": [
        {
          "output_type": "stream",
          "name": "stdout",
          "text": [
            " * sqlite:////content/week_2.db\n",
            "Done.\n"
          ]
        },
        {
          "output_type": "execute_result",
          "data": {
            "text/plain": [
              "[(1, 'Steve', 32000, 1),\n",
              " (2, 'Bola', 31000, 1),\n",
              " (3, 'Felix', 33000, 2),\n",
              " (4, 'Babalola', 30200, 1),\n",
              " (5, 'Okafor', 25000, 2),\n",
              " (6, 'Adigun', 30000, 1),\n",
              " (7, 'Gafar', 41000, 2),\n",
              " (8, 'Amanda', 53000, 2)]"
            ],
            "text/html": [
              "<table>\n",
              "    <thead>\n",
              "        <tr>\n",
              "            <th>id</th>\n",
              "            <th>name</th>\n",
              "            <th>salary</th>\n",
              "            <th>dept_id</th>\n",
              "        </tr>\n",
              "    </thead>\n",
              "    <tbody>\n",
              "        <tr>\n",
              "            <td>1</td>\n",
              "            <td>Steve</td>\n",
              "            <td>32000</td>\n",
              "            <td>1</td>\n",
              "        </tr>\n",
              "        <tr>\n",
              "            <td>2</td>\n",
              "            <td>Bola</td>\n",
              "            <td>31000</td>\n",
              "            <td>1</td>\n",
              "        </tr>\n",
              "        <tr>\n",
              "            <td>3</td>\n",
              "            <td>Felix</td>\n",
              "            <td>33000</td>\n",
              "            <td>2</td>\n",
              "        </tr>\n",
              "        <tr>\n",
              "            <td>4</td>\n",
              "            <td>Babalola</td>\n",
              "            <td>30200</td>\n",
              "            <td>1</td>\n",
              "        </tr>\n",
              "        <tr>\n",
              "            <td>5</td>\n",
              "            <td>Okafor</td>\n",
              "            <td>25000</td>\n",
              "            <td>2</td>\n",
              "        </tr>\n",
              "        <tr>\n",
              "            <td>6</td>\n",
              "            <td>Adigun</td>\n",
              "            <td>30000</td>\n",
              "            <td>1</td>\n",
              "        </tr>\n",
              "        <tr>\n",
              "            <td>7</td>\n",
              "            <td>Gafar</td>\n",
              "            <td>41000</td>\n",
              "            <td>2</td>\n",
              "        </tr>\n",
              "        <tr>\n",
              "            <td>8</td>\n",
              "            <td>Amanda</td>\n",
              "            <td>53000</td>\n",
              "            <td>2</td>\n",
              "        </tr>\n",
              "    </tbody>\n",
              "</table>"
            ]
          },
          "metadata": {},
          "execution_count": 49
        }
      ]
    },
    {
      "cell_type": "code",
      "source": [
        "# Taking a peep at the department table\n",
        "%%sql\n",
        "SELECT *\n",
        "FROM department;"
      ],
      "metadata": {
        "colab": {
          "base_uri": "https://localhost:8080/",
          "height": 118
        },
        "id": "v3DElAICqxzV",
        "outputId": "8525cded-9bda-4a3d-9117-634eb928f241"
      },
      "id": "v3DElAICqxzV",
      "execution_count": 35,
      "outputs": [
        {
          "output_type": "stream",
          "name": "stdout",
          "text": [
            " * sqlite:////content/week_2.db\n",
            "Done.\n"
          ]
        },
        {
          "output_type": "execute_result",
          "data": {
            "text/plain": [
              "[(1, 'Sales'), (2, 'IT')]"
            ],
            "text/html": [
              "<table>\n",
              "    <thead>\n",
              "        <tr>\n",
              "            <th>id</th>\n",
              "            <th>dept_name</th>\n",
              "        </tr>\n",
              "    </thead>\n",
              "    <tbody>\n",
              "        <tr>\n",
              "            <td>1</td>\n",
              "            <td>Sales</td>\n",
              "        </tr>\n",
              "        <tr>\n",
              "            <td>2</td>\n",
              "            <td>IT</td>\n",
              "        </tr>\n",
              "    </tbody>\n",
              "</table>"
            ]
          },
          "metadata": {},
          "execution_count": 35
        }
      ]
    },
    {
      "cell_type": "markdown",
      "source": [
        "## Question 2A Answer"
      ],
      "metadata": {
        "id": "7h6iCKJRs9Nh"
      },
      "id": "7h6iCKJRs9Nh"
    },
    {
      "cell_type": "code",
      "execution_count": 37,
      "id": "53a65238-f4e5-4ff2-82e4-77b659304025",
      "metadata": {
        "id": "53a65238-f4e5-4ff2-82e4-77b659304025",
        "colab": {
          "base_uri": "https://localhost:8080/",
          "height": 246
        },
        "outputId": "da11c0fe-951e-4e78-cf61-9df8de82788d"
      },
      "outputs": [
        {
          "output_type": "stream",
          "name": "stdout",
          "text": [
            " * sqlite:////content/week_2.db\n",
            "Done.\n"
          ]
        },
        {
          "output_type": "execute_result",
          "data": {
            "text/plain": [
              "[('Steve', 32000, 'Sales'),\n",
              " ('Bola', 31000, 'Sales'),\n",
              " ('Babalola', 30200, 'Sales'),\n",
              " ('Adigun', 30000, 'Sales'),\n",
              " ('Felix', 33000, 'IT'),\n",
              " ('Okafor', 25000, 'IT'),\n",
              " ('Gafar', 41000, 'IT'),\n",
              " ('Amanda', 53000, 'IT')]"
            ],
            "text/html": [
              "<table>\n",
              "    <thead>\n",
              "        <tr>\n",
              "            <th>name</th>\n",
              "            <th>salary</th>\n",
              "            <th>dept_name</th>\n",
              "        </tr>\n",
              "    </thead>\n",
              "    <tbody>\n",
              "        <tr>\n",
              "            <td>Steve</td>\n",
              "            <td>32000</td>\n",
              "            <td>Sales</td>\n",
              "        </tr>\n",
              "        <tr>\n",
              "            <td>Bola</td>\n",
              "            <td>31000</td>\n",
              "            <td>Sales</td>\n",
              "        </tr>\n",
              "        <tr>\n",
              "            <td>Babalola</td>\n",
              "            <td>30200</td>\n",
              "            <td>Sales</td>\n",
              "        </tr>\n",
              "        <tr>\n",
              "            <td>Adigun</td>\n",
              "            <td>30000</td>\n",
              "            <td>Sales</td>\n",
              "        </tr>\n",
              "        <tr>\n",
              "            <td>Felix</td>\n",
              "            <td>33000</td>\n",
              "            <td>IT</td>\n",
              "        </tr>\n",
              "        <tr>\n",
              "            <td>Okafor</td>\n",
              "            <td>25000</td>\n",
              "            <td>IT</td>\n",
              "        </tr>\n",
              "        <tr>\n",
              "            <td>Gafar</td>\n",
              "            <td>41000</td>\n",
              "            <td>IT</td>\n",
              "        </tr>\n",
              "        <tr>\n",
              "            <td>Amanda</td>\n",
              "            <td>53000</td>\n",
              "            <td>IT</td>\n",
              "        </tr>\n",
              "    </tbody>\n",
              "</table>"
            ]
          },
          "metadata": {},
          "execution_count": 37
        }
      ],
      "source": [
        "%%sql\n",
        "SELECT e.name, e.salary, d.dept_name\n",
        "FROM employee e\n",
        "JOIN department d ON e.dept_id = d.id\n",
        "WHERE (e.dept_id = 1 AND d.dept_name = 'Sales') OR (e.dept_id = 2 AND d.dept_name = 'IT');\n",
        "\n"
      ]
    },
    {
      "cell_type": "markdown",
      "source": [
        "## Question 2B Answer"
      ],
      "metadata": {
        "id": "dGzl6kCYtXVG"
      },
      "id": "dGzl6kCYtXVG"
    },
    {
      "cell_type": "code",
      "execution_count": 38,
      "id": "eab1bd72-e7f8-4d56-8c30-c889ad694be5",
      "metadata": {
        "id": "eab1bd72-e7f8-4d56-8c30-c889ad694be5",
        "colab": {
          "base_uri": "https://localhost:8080/",
          "height": 118
        },
        "outputId": "049f75c4-7651-4ed0-e710-a1303c1a7815"
      },
      "outputs": [
        {
          "output_type": "stream",
          "name": "stdout",
          "text": [
            " * sqlite:////content/week_2.db\n",
            "Done.\n"
          ]
        },
        {
          "output_type": "execute_result",
          "data": {
            "text/plain": [
              "[('Steve', 32000, 'Sales'), ('Amanda', 53000, 'IT')]"
            ],
            "text/html": [
              "<table>\n",
              "    <thead>\n",
              "        <tr>\n",
              "            <th>name</th>\n",
              "            <th>salary</th>\n",
              "            <th>dept_name</th>\n",
              "        </tr>\n",
              "    </thead>\n",
              "    <tbody>\n",
              "        <tr>\n",
              "            <td>Steve</td>\n",
              "            <td>32000</td>\n",
              "            <td>Sales</td>\n",
              "        </tr>\n",
              "        <tr>\n",
              "            <td>Amanda</td>\n",
              "            <td>53000</td>\n",
              "            <td>IT</td>\n",
              "        </tr>\n",
              "    </tbody>\n",
              "</table>"
            ]
          },
          "metadata": {},
          "execution_count": 38
        }
      ],
      "source": [
        "%%sql\n",
        "SELECT e.name, e.salary, d.dept_name\n",
        "FROM employee e\n",
        "JOIN department d ON e.dept_id = d.id\n",
        "WHERE (e.dept_id, e.salary) IN \n",
        "    (SELECT dept_id, MAX(salary)\n",
        "     FROM employee\n",
        "     GROUP BY dept_id);\n"
      ]
    },
    {
      "cell_type": "markdown",
      "source": [
        "## Question 2C Answer"
      ],
      "metadata": {
        "id": "0rOttxWLt4H2"
      },
      "id": "0rOttxWLt4H2"
    },
    {
      "cell_type": "code",
      "execution_count": 39,
      "id": "f8061201-1f3b-467b-9cff-09cae5361756",
      "metadata": {
        "id": "f8061201-1f3b-467b-9cff-09cae5361756",
        "colab": {
          "base_uri": "https://localhost:8080/",
          "height": 203
        },
        "outputId": "e63fb170-0b34-4666-aef6-64686a059c0d"
      },
      "outputs": [
        {
          "output_type": "stream",
          "name": "stdout",
          "text": [
            " * sqlite:////content/week_2.db\n",
            "Done.\n"
          ]
        },
        {
          "output_type": "execute_result",
          "data": {
            "text/plain": [
              "[('Amanda', 53000, 'IT'),\n",
              " ('Gafar', 41000, 'IT'),\n",
              " ('Felix', 33000, 'IT'),\n",
              " ('Steve', 32000, 'Sales'),\n",
              " ('Bola', 31000, 'Sales'),\n",
              " ('Babalola', 30200, 'Sales')]"
            ],
            "text/html": [
              "<table>\n",
              "    <thead>\n",
              "        <tr>\n",
              "            <th>name</th>\n",
              "            <th>salary</th>\n",
              "            <th>dept_name</th>\n",
              "        </tr>\n",
              "    </thead>\n",
              "    <tbody>\n",
              "        <tr>\n",
              "            <td>Amanda</td>\n",
              "            <td>53000</td>\n",
              "            <td>IT</td>\n",
              "        </tr>\n",
              "        <tr>\n",
              "            <td>Gafar</td>\n",
              "            <td>41000</td>\n",
              "            <td>IT</td>\n",
              "        </tr>\n",
              "        <tr>\n",
              "            <td>Felix</td>\n",
              "            <td>33000</td>\n",
              "            <td>IT</td>\n",
              "        </tr>\n",
              "        <tr>\n",
              "            <td>Steve</td>\n",
              "            <td>32000</td>\n",
              "            <td>Sales</td>\n",
              "        </tr>\n",
              "        <tr>\n",
              "            <td>Bola</td>\n",
              "            <td>31000</td>\n",
              "            <td>Sales</td>\n",
              "        </tr>\n",
              "        <tr>\n",
              "            <td>Babalola</td>\n",
              "            <td>30200</td>\n",
              "            <td>Sales</td>\n",
              "        </tr>\n",
              "    </tbody>\n",
              "</table>"
            ]
          },
          "metadata": {},
          "execution_count": 39
        }
      ],
      "source": [
        "%%sql\n",
        "SELECT e.name, e.salary, d.dept_name\n",
        "FROM employee e\n",
        "JOIN department d ON e.dept_id = d.id\n",
        "WHERE (e.dept_id, e.salary) NOT IN \n",
        "    (SELECT dept_id, MIN(salary)\n",
        "     FROM employee\n",
        "     GROUP BY dept_id)\n",
        "ORDER BY d.dept_name, e.salary DESC;\n"
      ]
    },
    {
      "cell_type": "markdown",
      "id": "46c59968-6566-4959-93ed-5806471f39ae",
      "metadata": {
        "id": "46c59968-6566-4959-93ed-5806471f39ae"
      },
      "source": [
        "### Qs 3: Given the students table:\n",
        "\n",
        "a. Write a query that creates a new column `percentage_score`.  The `percentage_score` is the mean of all the subjects for each student. Round the `percentage_score` to 2 decimal points and sort in descending order.\n",
        "\n",
        "b. Write a query that selects **ONLY** the students that scored more than the mean of the `percentage_score`."
      ]
    },
    {
      "cell_type": "code",
      "source": [
        "%%sql\n",
        "\n",
        "SELECT * FROM students;"
      ],
      "metadata": {
        "colab": {
          "base_uri": "https://localhost:8080/",
          "height": 331
        },
        "id": "nhMimIzxilgP",
        "outputId": "fd89f637-42a2-4664-fe8c-26bac0bd2789"
      },
      "id": "nhMimIzxilgP",
      "execution_count": 25,
      "outputs": [
        {
          "output_type": "stream",
          "name": "stdout",
          "text": [
            " * sqlite:////content/week_2.db\n",
            "Done.\n"
          ]
        },
        {
          "output_type": "execute_result",
          "data": {
            "text/plain": [
              "[('ux-012-013', 'Emeka', 'M', 95, 84, 94),\n",
              " ('ux-012-014', 'Agnes', 'F', 80, 69, 88),\n",
              " ('ux-012-015', 'Alimat', 'F', 69, 69, 77),\n",
              " ('ux-012-017', 'Fred', 'M', 28, 57, 39),\n",
              " ('ux-012-018', 'Ogechi', 'F', 80, 69, 78),\n",
              " ('ux-012-019', 'Steve', 'M', 61, 69, 72),\n",
              " ('ux-012-016', 'Esther', 'F', 93, 77, 91),\n",
              " ('ux-012-020', 'Ahmed', 'M', 87, 94, 85),\n",
              " ('ux-012-021', 'Samantha', 'F', 52, 69, 48),\n",
              " ('ux-012-022', 'Philip', 'M', 51, 39, 45),\n",
              " ('ux-012-023', 'Dave', 'M', 77, 69, 70),\n",
              " ('ux-012-024', 'Seyi', 'M', 54, 83, 63)]"
            ],
            "text/html": [
              "<table>\n",
              "    <thead>\n",
              "        <tr>\n",
              "            <th>matric_no</th>\n",
              "            <th>name</th>\n",
              "            <th>gender</th>\n",
              "            <th>maths</th>\n",
              "            <th>english</th>\n",
              "            <th>physics</th>\n",
              "        </tr>\n",
              "    </thead>\n",
              "    <tbody>\n",
              "        <tr>\n",
              "            <td>ux-012-013</td>\n",
              "            <td>Emeka</td>\n",
              "            <td>M</td>\n",
              "            <td>95</td>\n",
              "            <td>84</td>\n",
              "            <td>94</td>\n",
              "        </tr>\n",
              "        <tr>\n",
              "            <td>ux-012-014</td>\n",
              "            <td>Agnes</td>\n",
              "            <td>F</td>\n",
              "            <td>80</td>\n",
              "            <td>69</td>\n",
              "            <td>88</td>\n",
              "        </tr>\n",
              "        <tr>\n",
              "            <td>ux-012-015</td>\n",
              "            <td>Alimat</td>\n",
              "            <td>F</td>\n",
              "            <td>69</td>\n",
              "            <td>69</td>\n",
              "            <td>77</td>\n",
              "        </tr>\n",
              "        <tr>\n",
              "            <td>ux-012-017</td>\n",
              "            <td>Fred</td>\n",
              "            <td>M</td>\n",
              "            <td>28</td>\n",
              "            <td>57</td>\n",
              "            <td>39</td>\n",
              "        </tr>\n",
              "        <tr>\n",
              "            <td>ux-012-018</td>\n",
              "            <td>Ogechi</td>\n",
              "            <td>F</td>\n",
              "            <td>80</td>\n",
              "            <td>69</td>\n",
              "            <td>78</td>\n",
              "        </tr>\n",
              "        <tr>\n",
              "            <td>ux-012-019</td>\n",
              "            <td>Steve</td>\n",
              "            <td>M</td>\n",
              "            <td>61</td>\n",
              "            <td>69</td>\n",
              "            <td>72</td>\n",
              "        </tr>\n",
              "        <tr>\n",
              "            <td>ux-012-016</td>\n",
              "            <td>Esther</td>\n",
              "            <td>F</td>\n",
              "            <td>93</td>\n",
              "            <td>77</td>\n",
              "            <td>91</td>\n",
              "        </tr>\n",
              "        <tr>\n",
              "            <td>ux-012-020</td>\n",
              "            <td>Ahmed</td>\n",
              "            <td>M</td>\n",
              "            <td>87</td>\n",
              "            <td>94</td>\n",
              "            <td>85</td>\n",
              "        </tr>\n",
              "        <tr>\n",
              "            <td>ux-012-021</td>\n",
              "            <td>Samantha</td>\n",
              "            <td>F</td>\n",
              "            <td>52</td>\n",
              "            <td>69</td>\n",
              "            <td>48</td>\n",
              "        </tr>\n",
              "        <tr>\n",
              "            <td>ux-012-022</td>\n",
              "            <td>Philip</td>\n",
              "            <td>M</td>\n",
              "            <td>51</td>\n",
              "            <td>39</td>\n",
              "            <td>45</td>\n",
              "        </tr>\n",
              "        <tr>\n",
              "            <td>ux-012-023</td>\n",
              "            <td>Dave</td>\n",
              "            <td>M</td>\n",
              "            <td>77</td>\n",
              "            <td>69</td>\n",
              "            <td>70</td>\n",
              "        </tr>\n",
              "        <tr>\n",
              "            <td>ux-012-024</td>\n",
              "            <td>Seyi</td>\n",
              "            <td>M</td>\n",
              "            <td>54</td>\n",
              "            <td>83</td>\n",
              "            <td>63</td>\n",
              "        </tr>\n",
              "    </tbody>\n",
              "</table>"
            ]
          },
          "metadata": {},
          "execution_count": 25
        }
      ]
    },
    {
      "cell_type": "markdown",
      "source": [
        "## Question 3A Answer"
      ],
      "metadata": {
        "id": "EL3O7vKrk42m"
      },
      "id": "EL3O7vKrk42m"
    },
    {
      "cell_type": "code",
      "execution_count": 26,
      "id": "f9cc3835-2459-4541-9259-c94898bdfb40",
      "metadata": {
        "id": "f9cc3835-2459-4541-9259-c94898bdfb40",
        "colab": {
          "base_uri": "https://localhost:8080/",
          "height": 331
        },
        "outputId": "1ee45068-6fe2-40a7-92d3-451e9554d4b1"
      },
      "outputs": [
        {
          "output_type": "stream",
          "name": "stdout",
          "text": [
            " * sqlite:////content/week_2.db\n",
            "Done.\n"
          ]
        },
        {
          "output_type": "execute_result",
          "data": {
            "text/plain": [
              "[('ux-012-013', 'Emeka', 'M', 95, 84, 94, 91.0),\n",
              " ('ux-012-020', 'Ahmed', 'M', 87, 94, 85, 88.0),\n",
              " ('ux-012-016', 'Esther', 'F', 93, 77, 91, 87.0),\n",
              " ('ux-012-014', 'Agnes', 'F', 80, 69, 88, 79.0),\n",
              " ('ux-012-018', 'Ogechi', 'F', 80, 69, 78, 75.0),\n",
              " ('ux-012-023', 'Dave', 'M', 77, 69, 70, 72.0),\n",
              " ('ux-012-015', 'Alimat', 'F', 69, 69, 77, 71.0),\n",
              " ('ux-012-019', 'Steve', 'M', 61, 69, 72, 67.0),\n",
              " ('ux-012-024', 'Seyi', 'M', 54, 83, 63, 66.0),\n",
              " ('ux-012-021', 'Samantha', 'F', 52, 69, 48, 56.0),\n",
              " ('ux-012-022', 'Philip', 'M', 51, 39, 45, 45.0),\n",
              " ('ux-012-017', 'Fred', 'M', 28, 57, 39, 41.0)]"
            ],
            "text/html": [
              "<table>\n",
              "    <thead>\n",
              "        <tr>\n",
              "            <th>matric_no</th>\n",
              "            <th>name</th>\n",
              "            <th>gender</th>\n",
              "            <th>maths</th>\n",
              "            <th>english</th>\n",
              "            <th>physics</th>\n",
              "            <th>percentage_score</th>\n",
              "        </tr>\n",
              "    </thead>\n",
              "    <tbody>\n",
              "        <tr>\n",
              "            <td>ux-012-013</td>\n",
              "            <td>Emeka</td>\n",
              "            <td>M</td>\n",
              "            <td>95</td>\n",
              "            <td>84</td>\n",
              "            <td>94</td>\n",
              "            <td>91.0</td>\n",
              "        </tr>\n",
              "        <tr>\n",
              "            <td>ux-012-020</td>\n",
              "            <td>Ahmed</td>\n",
              "            <td>M</td>\n",
              "            <td>87</td>\n",
              "            <td>94</td>\n",
              "            <td>85</td>\n",
              "            <td>88.0</td>\n",
              "        </tr>\n",
              "        <tr>\n",
              "            <td>ux-012-016</td>\n",
              "            <td>Esther</td>\n",
              "            <td>F</td>\n",
              "            <td>93</td>\n",
              "            <td>77</td>\n",
              "            <td>91</td>\n",
              "            <td>87.0</td>\n",
              "        </tr>\n",
              "        <tr>\n",
              "            <td>ux-012-014</td>\n",
              "            <td>Agnes</td>\n",
              "            <td>F</td>\n",
              "            <td>80</td>\n",
              "            <td>69</td>\n",
              "            <td>88</td>\n",
              "            <td>79.0</td>\n",
              "        </tr>\n",
              "        <tr>\n",
              "            <td>ux-012-018</td>\n",
              "            <td>Ogechi</td>\n",
              "            <td>F</td>\n",
              "            <td>80</td>\n",
              "            <td>69</td>\n",
              "            <td>78</td>\n",
              "            <td>75.0</td>\n",
              "        </tr>\n",
              "        <tr>\n",
              "            <td>ux-012-023</td>\n",
              "            <td>Dave</td>\n",
              "            <td>M</td>\n",
              "            <td>77</td>\n",
              "            <td>69</td>\n",
              "            <td>70</td>\n",
              "            <td>72.0</td>\n",
              "        </tr>\n",
              "        <tr>\n",
              "            <td>ux-012-015</td>\n",
              "            <td>Alimat</td>\n",
              "            <td>F</td>\n",
              "            <td>69</td>\n",
              "            <td>69</td>\n",
              "            <td>77</td>\n",
              "            <td>71.0</td>\n",
              "        </tr>\n",
              "        <tr>\n",
              "            <td>ux-012-019</td>\n",
              "            <td>Steve</td>\n",
              "            <td>M</td>\n",
              "            <td>61</td>\n",
              "            <td>69</td>\n",
              "            <td>72</td>\n",
              "            <td>67.0</td>\n",
              "        </tr>\n",
              "        <tr>\n",
              "            <td>ux-012-024</td>\n",
              "            <td>Seyi</td>\n",
              "            <td>M</td>\n",
              "            <td>54</td>\n",
              "            <td>83</td>\n",
              "            <td>63</td>\n",
              "            <td>66.0</td>\n",
              "        </tr>\n",
              "        <tr>\n",
              "            <td>ux-012-021</td>\n",
              "            <td>Samantha</td>\n",
              "            <td>F</td>\n",
              "            <td>52</td>\n",
              "            <td>69</td>\n",
              "            <td>48</td>\n",
              "            <td>56.0</td>\n",
              "        </tr>\n",
              "        <tr>\n",
              "            <td>ux-012-022</td>\n",
              "            <td>Philip</td>\n",
              "            <td>M</td>\n",
              "            <td>51</td>\n",
              "            <td>39</td>\n",
              "            <td>45</td>\n",
              "            <td>45.0</td>\n",
              "        </tr>\n",
              "        <tr>\n",
              "            <td>ux-012-017</td>\n",
              "            <td>Fred</td>\n",
              "            <td>M</td>\n",
              "            <td>28</td>\n",
              "            <td>57</td>\n",
              "            <td>39</td>\n",
              "            <td>41.0</td>\n",
              "        </tr>\n",
              "    </tbody>\n",
              "</table>"
            ]
          },
          "metadata": {},
          "execution_count": 26
        }
      ],
      "source": [
        "%%sql\n",
        "SELECT matric_no, name, gender, maths, english, physics, \n",
        "  ROUND(((maths + english + physics) / 3), 2) AS percentage_score\n",
        "FROM students\n",
        "ORDER BY percentage_score DESC;\n",
        "\n"
      ]
    },
    {
      "cell_type": "markdown",
      "source": [
        "## Question 3B Answer"
      ],
      "metadata": {
        "id": "UaHcYPOSnEvX"
      },
      "id": "UaHcYPOSnEvX"
    },
    {
      "cell_type": "code",
      "execution_count": 31,
      "id": "0d4dd56e-948d-4ff5-a068-e259c8d64c8a",
      "metadata": {
        "id": "0d4dd56e-948d-4ff5-a068-e259c8d64c8a",
        "colab": {
          "base_uri": "https://localhost:8080/",
          "height": 225
        },
        "outputId": "d82893b2-f6bf-4094-f58d-1778320ac389"
      },
      "outputs": [
        {
          "output_type": "stream",
          "name": "stdout",
          "text": [
            " * sqlite:////content/week_2.db\n",
            "Done.\n"
          ]
        },
        {
          "output_type": "execute_result",
          "data": {
            "text/plain": [
              "[('ux-012-013', 'Emeka', 'M', 95, 84, 94, 91.0),\n",
              " ('ux-012-014', 'Agnes', 'F', 80, 69, 88, 79.0),\n",
              " ('ux-012-015', 'Alimat', 'F', 69, 69, 77, 71.67),\n",
              " ('ux-012-018', 'Ogechi', 'F', 80, 69, 78, 75.67),\n",
              " ('ux-012-016', 'Esther', 'F', 93, 77, 91, 87.0),\n",
              " ('ux-012-020', 'Ahmed', 'M', 87, 94, 85, 88.67),\n",
              " ('ux-012-023', 'Dave', 'M', 77, 69, 70, 72.0)]"
            ],
            "text/html": [
              "<table>\n",
              "    <thead>\n",
              "        <tr>\n",
              "            <th>matric_no</th>\n",
              "            <th>name</th>\n",
              "            <th>gender</th>\n",
              "            <th>maths</th>\n",
              "            <th>english</th>\n",
              "            <th>physics</th>\n",
              "            <th>percentage_score</th>\n",
              "        </tr>\n",
              "    </thead>\n",
              "    <tbody>\n",
              "        <tr>\n",
              "            <td>ux-012-013</td>\n",
              "            <td>Emeka</td>\n",
              "            <td>M</td>\n",
              "            <td>95</td>\n",
              "            <td>84</td>\n",
              "            <td>94</td>\n",
              "            <td>91.0</td>\n",
              "        </tr>\n",
              "        <tr>\n",
              "            <td>ux-012-014</td>\n",
              "            <td>Agnes</td>\n",
              "            <td>F</td>\n",
              "            <td>80</td>\n",
              "            <td>69</td>\n",
              "            <td>88</td>\n",
              "            <td>79.0</td>\n",
              "        </tr>\n",
              "        <tr>\n",
              "            <td>ux-012-015</td>\n",
              "            <td>Alimat</td>\n",
              "            <td>F</td>\n",
              "            <td>69</td>\n",
              "            <td>69</td>\n",
              "            <td>77</td>\n",
              "            <td>71.67</td>\n",
              "        </tr>\n",
              "        <tr>\n",
              "            <td>ux-012-018</td>\n",
              "            <td>Ogechi</td>\n",
              "            <td>F</td>\n",
              "            <td>80</td>\n",
              "            <td>69</td>\n",
              "            <td>78</td>\n",
              "            <td>75.67</td>\n",
              "        </tr>\n",
              "        <tr>\n",
              "            <td>ux-012-016</td>\n",
              "            <td>Esther</td>\n",
              "            <td>F</td>\n",
              "            <td>93</td>\n",
              "            <td>77</td>\n",
              "            <td>91</td>\n",
              "            <td>87.0</td>\n",
              "        </tr>\n",
              "        <tr>\n",
              "            <td>ux-012-020</td>\n",
              "            <td>Ahmed</td>\n",
              "            <td>M</td>\n",
              "            <td>87</td>\n",
              "            <td>94</td>\n",
              "            <td>85</td>\n",
              "            <td>88.67</td>\n",
              "        </tr>\n",
              "        <tr>\n",
              "            <td>ux-012-023</td>\n",
              "            <td>Dave</td>\n",
              "            <td>M</td>\n",
              "            <td>77</td>\n",
              "            <td>69</td>\n",
              "            <td>70</td>\n",
              "            <td>72.0</td>\n",
              "        </tr>\n",
              "    </tbody>\n",
              "</table>"
            ]
          },
          "metadata": {},
          "execution_count": 31
        }
      ],
      "source": [
        "%%sql\n",
        "SELECT matric_no, name, gender, maths, english, physics, \n",
        "ROUND((maths + english + physics) / 3.0, 2) AS percentage_score\n",
        "FROM students\n",
        "WHERE (maths + english + physics) / 3.0 > \n",
        "(SELECT AVG((maths + english + physics) / 3.0) FROM students);\n"
      ]
    }
  ],
  "metadata": {
    "kernelspec": {
      "display_name": "Python(ds)",
      "language": "python",
      "name": "ds"
    },
    "language_info": {
      "codemirror_mode": {
        "name": "ipython",
        "version": 3
      },
      "file_extension": ".py",
      "mimetype": "text/x-python",
      "name": "python",
      "nbconvert_exporter": "python",
      "pygments_lexer": "ipython3",
      "version": "3.9.0"
    },
    "colab": {
      "provenance": [],
      "toc_visible": true
    }
  },
  "nbformat": 4,
  "nbformat_minor": 5
}